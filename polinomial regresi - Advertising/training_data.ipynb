{
 "cells": [
  {
   "cell_type": "code",
   "execution_count": 1,
   "id": "857dbbe3",
   "metadata": {},
   "outputs": [],
   "source": [
    "def ambil_best(grid_search,n):\n",
    "    cv_r=pd.DataFrame(grid_search.cv_results_)\n",
    "    cv_r_v=cv_r.sort_values(['rank_test_score'])\n",
    "    cv_r_v=cv_r_v.head(n)['params'].values\n",
    "\n",
    "    for wi in range(len(cv_r_v)):\n",
    "\n",
    "        for i in list(cv_r_v[wi]):\n",
    "\n",
    "            cv_r_v[wi][i]=[cv_r_v[wi][i]]\n",
    "\n",
    "\n",
    "    return cv_r_v"
   ]
  },
  {
   "cell_type": "code",
   "execution_count": 2,
   "id": "b3f50c1c",
   "metadata": {},
   "outputs": [],
   "source": [
    "\n",
    "\n",
    "\n",
    "\n",
    "def input_mlflow(cv_r_v,increment_number,X_train, y_train,pipeline,run_name,experiment_id):\n",
    "    \n",
    "\n",
    "    for wi in range(len(cv_r_v)):\n",
    "        \n",
    "        #====================skema===================\n",
    "        cols_spec = []\n",
    "        data_map = {\n",
    "                'int64': 'integer',\n",
    "                'float64': 'double',\n",
    "                'bool': 'boolean',\n",
    "                'str': 'string',\n",
    "                \"date\": 'datetime'\n",
    "            }\n",
    "\n",
    "        for name, dtype in X_train.dtypes.to_dict().items():\n",
    "            cols_spec.append(ColSpec(name=name, type=data_map[str(dtype)]))\n",
    "        input_schema = Schema(inputs=cols_spec)\n",
    "        output_schema = Schema([ColSpec(name=\"label\", type=\"double\")])\n",
    "        #parameter = ParamSpec(name=\"model_name\", dtype=\"string\", default=\"model1\")\n",
    "        #param_schema = ParamSchema(params=[parameter])\n",
    "        model_signature = ModelSignature(inputs=input_schema, outputs=output_schema)#, params=param_schema)\n",
    "        #print(\"MODEL SIGNATURE\")\n",
    "        #print(model_signature.to_dict())\n",
    "\n",
    "        model_signature = infer_signature(X_train, y_train)#, params={\"model_name\": \"model1\"})\n",
    "        #print(\"MODEL SIGNATURE\")\n",
    "        #print(model_signature.to_dict())\n",
    "\n",
    "        \n",
    "        \n",
    "        \n",
    "        \n",
    "        #====================buat run baru===================\n",
    "        run_name_with_increment = f\"{run_name}__{increment_number}\"\n",
    "            # Membuka run MLflow\n",
    "        with mlflow.start_run(run_name=run_name_with_increment, experiment_id=experiment_id) as run:\n",
    "            # Mendapatkan run_id\n",
    "            run_id = mlflow.active_run().info.run_id\n",
    "        increment_number=increment_number+1\n",
    "        print(\"run_id:\", run_id)\n",
    "\n",
    "        \n",
    "        \n",
    "        #====================buat parameter model dan metric===================\n",
    "\n",
    "        # Definisikan grid parameter untuk dicari\n",
    "        param_grid = cv_r_v[wi]\n",
    "        \n",
    "        #====================model===================\n",
    "\n",
    "        # Inisialisasi GridSearchCV\n",
    "        grid_search = GridSearchCV(pipeline, param_grid, cv=5,  scoring='neg_mean_squared_error')\n",
    "\n",
    "        # Lakukan pencarian grid\n",
    "        grid_search.fit(X_train, y_train)\n",
    "        \n",
    "            \n",
    "        #====================parameter===================\n",
    "        pipe=grid_search.best_estimator_\n",
    "        \n",
    "        \n",
    "        first_step_name = list(pipe.named_steps.keys())[0:len(pipe)]\n",
    "        \n",
    "\n",
    "        for i in range(len(pipe)):\n",
    "            # Mendapatkan parameter dari langkah 'sca'\n",
    "            nama=first_step_name[i]\n",
    "            sca_params = pipe.get_params()[nama]\n",
    "\n",
    "                # Membuka run MLflow\n",
    "            with mlflow.start_run( experiment_id=experiment_id,run_id=run_id) as run:\n",
    "\n",
    "                # Log parameter secara otomatis menggunakan loop\n",
    "                for param_name, param_value in sca_params.get_params().items():\n",
    "                    param_name=nama+'__'+param_name\n",
    "                    #print(param_name,param_value)\n",
    "                    mlflow.log_param(param_name, param_value)\n",
    "                    \n",
    "                    \n",
    "                #====================metric===================\n",
    "                #matric\n",
    "                hasil_test=grid_search.predict(X_test)\n",
    "                mae=mean_absolute_error(y_test, hasil_test)\n",
    "                mse=mean_squared_error(y_test, hasil_test)\n",
    "                rmse=np.sqrt(mse)\n",
    "                r2=r2_score(y_test, hasil_test)\n",
    "                #print(mse)\n",
    "                \n",
    "\n",
    "                # log model \n",
    "                mlflow.sklearn.log_model(sk_model=grid_search, artifact_path=\"grid_search__\"+str(increment_number-1),signature=model_signature)\n",
    "\n",
    "                metrics = {\n",
    "                    'mean_test_score':pd.DataFrame(grid_search.cv_results_)['mean_test_score'].values[0],\n",
    "                    \"mse\": mse,\n",
    "                    \"mae\": mae,\n",
    "                    \"rmse\": rmse,\n",
    "                    \"r2\": r2\n",
    "                }\n",
    "\n",
    "                mlflow.log_metrics(metrics)\n",
    "                \n",
    "                \n",
    "        mlflow.end_run()\n",
    "    print('selesai')\n",
    "\n",
    "        \n",
    "    return increment_number\n",
    "\n",
    "\n",
    "            \n",
    "        "
   ]
  },
  {
   "cell_type": "code",
   "execution_count": 39,
   "id": "032b1a26",
   "metadata": {},
   "outputs": [],
   "source": [
    "# import libraries\n",
    "import matplotlib.pyplot as plt\n",
    "import numpy as np\n",
    "import scipy.stats as stats\n",
    "\n",
    "\n",
    "\n",
    "import seaborn as sns\n",
    "import statsmodels.api as sm\n",
    "import pandas as pd\n",
    "\n",
    "\n",
    "\n",
    "from scipy.stats import shapiro,normaltest,kstest,jarque_bera\n",
    "import pingouin as pg\n",
    "from pingouin import kruskal\n",
    "\n",
    "\n",
    "import numpy as np\n",
    "import pandas as pd\n",
    "import matplotlib.pyplot as plt\n",
    "import seaborn as sns\n",
    "\n",
    "from sklearn.model_selection import train_test_split\n",
    "\n",
    "from sklearn.pipeline import Pipeline\n",
    "from sklearn.preprocessing import StandardScaler\n",
    "from sklearn.model_selection import train_test_split\n",
    "import mlflow\n",
    "\n",
    "\n",
    "from sklearn.preprocessing import PolynomialFeatures\n",
    "from sklearn.linear_model import LinearRegression\n",
    "from sklearn.metrics import mean_absolute_error,mean_squared_error, r2_score\n",
    "\n",
    "\n",
    "import mlflow\n",
    "\n",
    "from mlflow.models.signature import ModelSignature\n",
    "from mlflow.models.signature import infer_signature\n",
    "from mlflow.types.schema import Schema\n",
    "from mlflow.types.schema import ParamSchema\n",
    "from mlflow.types.schema import ParamSpec\n",
    "from mlflow.types.schema import ColSpec\n",
    "from sklearn.ensemble import RandomForestClassifier\n",
    "from sklearn.datasets import make_classification\n",
    "import pandas as pd\n",
    "from typing import Tuple\n"
   ]
  },
  {
   "cell_type": "markdown",
   "id": "c4c5a81b",
   "metadata": {},
   "source": [
    "# import data"
   ]
  },
  {
   "cell_type": "code",
   "execution_count": 208,
   "id": "ae4c764c",
   "metadata": {},
   "outputs": [
    {
     "data": {
      "text/html": [
       "<div>\n",
       "<style scoped>\n",
       "    .dataframe tbody tr th:only-of-type {\n",
       "        vertical-align: middle;\n",
       "    }\n",
       "\n",
       "    .dataframe tbody tr th {\n",
       "        vertical-align: top;\n",
       "    }\n",
       "\n",
       "    .dataframe thead th {\n",
       "        text-align: right;\n",
       "    }\n",
       "</style>\n",
       "<table border=\"1\" class=\"dataframe\">\n",
       "  <thead>\n",
       "    <tr style=\"text-align: right;\">\n",
       "      <th></th>\n",
       "      <th>TV</th>\n",
       "      <th>radio</th>\n",
       "      <th>newspaper</th>\n",
       "      <th>sales</th>\n",
       "    </tr>\n",
       "  </thead>\n",
       "  <tbody>\n",
       "    <tr>\n",
       "      <th>0</th>\n",
       "      <td>230.1</td>\n",
       "      <td>37.8</td>\n",
       "      <td>69.2</td>\n",
       "      <td>22.1</td>\n",
       "    </tr>\n",
       "    <tr>\n",
       "      <th>1</th>\n",
       "      <td>44.5</td>\n",
       "      <td>39.3</td>\n",
       "      <td>45.1</td>\n",
       "      <td>10.4</td>\n",
       "    </tr>\n",
       "    <tr>\n",
       "      <th>2</th>\n",
       "      <td>17.2</td>\n",
       "      <td>45.9</td>\n",
       "      <td>69.3</td>\n",
       "      <td>9.3</td>\n",
       "    </tr>\n",
       "    <tr>\n",
       "      <th>3</th>\n",
       "      <td>151.5</td>\n",
       "      <td>41.3</td>\n",
       "      <td>58.5</td>\n",
       "      <td>18.5</td>\n",
       "    </tr>\n",
       "    <tr>\n",
       "      <th>4</th>\n",
       "      <td>180.8</td>\n",
       "      <td>10.8</td>\n",
       "      <td>58.4</td>\n",
       "      <td>12.9</td>\n",
       "    </tr>\n",
       "  </tbody>\n",
       "</table>\n",
       "</div>"
      ],
      "text/plain": [
       "      TV  radio  newspaper  sales\n",
       "0  230.1   37.8       69.2   22.1\n",
       "1   44.5   39.3       45.1   10.4\n",
       "2   17.2   45.9       69.3    9.3\n",
       "3  151.5   41.3       58.5   18.5\n",
       "4  180.8   10.8       58.4   12.9"
      ]
     },
     "execution_count": 208,
     "metadata": {},
     "output_type": "execute_result"
    }
   ],
   "source": [
    "df=pd.read_csv('data/data_csv/data_bersih.csv')\n",
    "df.head()\n"
   ]
  },
  {
   "cell_type": "code",
   "execution_count": 209,
   "id": "5e9891a7",
   "metadata": {},
   "outputs": [
    {
     "name": "stdout",
     "output_type": "stream",
     "text": [
      "<class 'pandas.core.frame.DataFrame'>\n",
      "RangeIndex: 199 entries, 0 to 198\n",
      "Data columns (total 4 columns):\n",
      " #   Column     Non-Null Count  Dtype  \n",
      "---  ------     --------------  -----  \n",
      " 0   TV         199 non-null    float64\n",
      " 1   radio      199 non-null    float64\n",
      " 2   newspaper  199 non-null    float64\n",
      " 3   sales      199 non-null    float64\n",
      "dtypes: float64(4)\n",
      "memory usage: 6.3 KB\n"
     ]
    }
   ],
   "source": [
    "df.info()"
   ]
  },
  {
   "cell_type": "code",
   "execution_count": 210,
   "id": "4d7d13ed",
   "metadata": {},
   "outputs": [
    {
     "data": {
      "text/html": [
       "<div>\n",
       "<style scoped>\n",
       "    .dataframe tbody tr th:only-of-type {\n",
       "        vertical-align: middle;\n",
       "    }\n",
       "\n",
       "    .dataframe tbody tr th {\n",
       "        vertical-align: top;\n",
       "    }\n",
       "\n",
       "    .dataframe thead th {\n",
       "        text-align: right;\n",
       "    }\n",
       "</style>\n",
       "<table border=\"1\" class=\"dataframe\">\n",
       "  <thead>\n",
       "    <tr style=\"text-align: right;\">\n",
       "      <th></th>\n",
       "      <th>TV</th>\n",
       "      <th>radio</th>\n",
       "      <th>newspaper</th>\n",
       "      <th>sales</th>\n",
       "    </tr>\n",
       "  </thead>\n",
       "  <tbody>\n",
       "    <tr>\n",
       "      <th>count</th>\n",
       "      <td>199.000000</td>\n",
       "      <td>199.000000</td>\n",
       "      <td>199.000000</td>\n",
       "      <td>199.000000</td>\n",
       "    </tr>\n",
       "    <tr>\n",
       "      <th>mean</th>\n",
       "      <td>147.440704</td>\n",
       "      <td>23.196985</td>\n",
       "      <td>30.134673</td>\n",
       "      <td>14.030151</td>\n",
       "    </tr>\n",
       "    <tr>\n",
       "      <th>std</th>\n",
       "      <td>85.885409</td>\n",
       "      <td>14.853898</td>\n",
       "      <td>21.008552</td>\n",
       "      <td>5.229491</td>\n",
       "    </tr>\n",
       "    <tr>\n",
       "      <th>min</th>\n",
       "      <td>0.700000</td>\n",
       "      <td>0.000000</td>\n",
       "      <td>0.300000</td>\n",
       "      <td>1.600000</td>\n",
       "    </tr>\n",
       "    <tr>\n",
       "      <th>25%</th>\n",
       "      <td>74.900000</td>\n",
       "      <td>9.950000</td>\n",
       "      <td>12.700000</td>\n",
       "      <td>10.350000</td>\n",
       "    </tr>\n",
       "    <tr>\n",
       "      <th>50%</th>\n",
       "      <td>149.800000</td>\n",
       "      <td>22.500000</td>\n",
       "      <td>25.600000</td>\n",
       "      <td>12.900000</td>\n",
       "    </tr>\n",
       "    <tr>\n",
       "      <th>75%</th>\n",
       "      <td>219.150000</td>\n",
       "      <td>36.400000</td>\n",
       "      <td>44.700000</td>\n",
       "      <td>17.400000</td>\n",
       "    </tr>\n",
       "    <tr>\n",
       "      <th>max</th>\n",
       "      <td>296.400000</td>\n",
       "      <td>49.600000</td>\n",
       "      <td>100.900000</td>\n",
       "      <td>27.000000</td>\n",
       "    </tr>\n",
       "  </tbody>\n",
       "</table>\n",
       "</div>"
      ],
      "text/plain": [
       "               TV       radio   newspaper       sales\n",
       "count  199.000000  199.000000  199.000000  199.000000\n",
       "mean   147.440704   23.196985   30.134673   14.030151\n",
       "std     85.885409   14.853898   21.008552    5.229491\n",
       "min      0.700000    0.000000    0.300000    1.600000\n",
       "25%     74.900000    9.950000   12.700000   10.350000\n",
       "50%    149.800000   22.500000   25.600000   12.900000\n",
       "75%    219.150000   36.400000   44.700000   17.400000\n",
       "max    296.400000   49.600000  100.900000   27.000000"
      ]
     },
     "execution_count": 210,
     "metadata": {},
     "output_type": "execute_result"
    }
   ],
   "source": [
    "df.describe()"
   ]
  },
  {
   "cell_type": "markdown",
   "id": "cbabc2a6",
   "metadata": {},
   "source": [
    "# split data"
   ]
  },
  {
   "cell_type": "code",
   "execution_count": 211,
   "id": "0a950a19",
   "metadata": {},
   "outputs": [],
   "source": [
    "X = df.drop(['sales'],axis=1)\n",
    "y = df['sales']\n",
    "X_train, X_test, y_train, y_test = train_test_split(X,y, test_size=0.1, random_state=101)"
   ]
  },
  {
   "cell_type": "code",
   "execution_count": 212,
   "id": "9cf7e6db",
   "metadata": {},
   "outputs": [
    {
     "data": {
      "text/plain": [
       "(179, 20)"
      ]
     },
     "execution_count": 212,
     "metadata": {},
     "output_type": "execute_result"
    }
   ],
   "source": [
    "len(X_train), len(X_test)"
   ]
  },
  {
   "cell_type": "code",
   "execution_count": 213,
   "id": "66992462",
   "metadata": {},
   "outputs": [
    {
     "data": {
      "text/plain": [
       "TV           0.630882\n",
       "radio        0.445911\n",
       "newspaper    0.000000\n",
       "dtype: float64"
      ]
     },
     "execution_count": 213,
     "metadata": {},
     "output_type": "execute_result"
    }
   ],
   "source": [
    "from sklearn.feature_selection import mutual_info_regression\n",
    "mutual_info=mutual_info_regression(X_train, y_train)\n",
    "\n",
    "mutual_info = pd.Series(mutual_info)\n",
    "mutual_info.index = X.columns\n",
    "mutual_info.sort_values(ascending=False)"
   ]
  },
  {
   "cell_type": "markdown",
   "id": "11f7c190",
   "metadata": {},
   "source": [
    "# tandai newspaper    0.000000\n",
    "\n",
    "# bangun pipeline"
   ]
  },
  {
   "cell_type": "code",
   "execution_count": 214,
   "id": "306cd967",
   "metadata": {},
   "outputs": [],
   "source": [
    "from sklearn import set_config\n",
    "set_config(display='diagram')"
   ]
  },
  {
   "cell_type": "code",
   "execution_count": 215,
   "id": "1215efe6",
   "metadata": {},
   "outputs": [
    {
     "data": {
      "text/html": [
       "<style>#sk-a8bc381c-0655-4505-9e76-9bb229020836 {color: black;background-color: white;}#sk-a8bc381c-0655-4505-9e76-9bb229020836 pre{padding: 0;}#sk-a8bc381c-0655-4505-9e76-9bb229020836 div.sk-toggleable {background-color: white;}#sk-a8bc381c-0655-4505-9e76-9bb229020836 label.sk-toggleable__label {cursor: pointer;display: block;width: 100%;margin-bottom: 0;padding: 0.3em;box-sizing: border-box;text-align: center;}#sk-a8bc381c-0655-4505-9e76-9bb229020836 label.sk-toggleable__label-arrow:before {content: \"▸\";float: left;margin-right: 0.25em;color: #696969;}#sk-a8bc381c-0655-4505-9e76-9bb229020836 label.sk-toggleable__label-arrow:hover:before {color: black;}#sk-a8bc381c-0655-4505-9e76-9bb229020836 div.sk-estimator:hover label.sk-toggleable__label-arrow:before {color: black;}#sk-a8bc381c-0655-4505-9e76-9bb229020836 div.sk-toggleable__content {max-height: 0;max-width: 0;overflow: hidden;text-align: left;background-color: #f0f8ff;}#sk-a8bc381c-0655-4505-9e76-9bb229020836 div.sk-toggleable__content pre {margin: 0.2em;color: black;border-radius: 0.25em;background-color: #f0f8ff;}#sk-a8bc381c-0655-4505-9e76-9bb229020836 input.sk-toggleable__control:checked~div.sk-toggleable__content {max-height: 200px;max-width: 100%;overflow: auto;}#sk-a8bc381c-0655-4505-9e76-9bb229020836 input.sk-toggleable__control:checked~label.sk-toggleable__label-arrow:before {content: \"▾\";}#sk-a8bc381c-0655-4505-9e76-9bb229020836 div.sk-estimator input.sk-toggleable__control:checked~label.sk-toggleable__label {background-color: #d4ebff;}#sk-a8bc381c-0655-4505-9e76-9bb229020836 div.sk-label input.sk-toggleable__control:checked~label.sk-toggleable__label {background-color: #d4ebff;}#sk-a8bc381c-0655-4505-9e76-9bb229020836 input.sk-hidden--visually {border: 0;clip: rect(1px 1px 1px 1px);clip: rect(1px, 1px, 1px, 1px);height: 1px;margin: -1px;overflow: hidden;padding: 0;position: absolute;width: 1px;}#sk-a8bc381c-0655-4505-9e76-9bb229020836 div.sk-estimator {font-family: monospace;background-color: #f0f8ff;border: 1px dotted black;border-radius: 0.25em;box-sizing: border-box;margin-bottom: 0.5em;}#sk-a8bc381c-0655-4505-9e76-9bb229020836 div.sk-estimator:hover {background-color: #d4ebff;}#sk-a8bc381c-0655-4505-9e76-9bb229020836 div.sk-parallel-item::after {content: \"\";width: 100%;border-bottom: 1px solid gray;flex-grow: 1;}#sk-a8bc381c-0655-4505-9e76-9bb229020836 div.sk-label:hover label.sk-toggleable__label {background-color: #d4ebff;}#sk-a8bc381c-0655-4505-9e76-9bb229020836 div.sk-serial::before {content: \"\";position: absolute;border-left: 1px solid gray;box-sizing: border-box;top: 2em;bottom: 0;left: 50%;}#sk-a8bc381c-0655-4505-9e76-9bb229020836 div.sk-serial {display: flex;flex-direction: column;align-items: center;background-color: white;padding-right: 0.2em;padding-left: 0.2em;}#sk-a8bc381c-0655-4505-9e76-9bb229020836 div.sk-item {z-index: 1;}#sk-a8bc381c-0655-4505-9e76-9bb229020836 div.sk-parallel {display: flex;align-items: stretch;justify-content: center;background-color: white;}#sk-a8bc381c-0655-4505-9e76-9bb229020836 div.sk-parallel::before {content: \"\";position: absolute;border-left: 1px solid gray;box-sizing: border-box;top: 2em;bottom: 0;left: 50%;}#sk-a8bc381c-0655-4505-9e76-9bb229020836 div.sk-parallel-item {display: flex;flex-direction: column;position: relative;background-color: white;}#sk-a8bc381c-0655-4505-9e76-9bb229020836 div.sk-parallel-item:first-child::after {align-self: flex-end;width: 50%;}#sk-a8bc381c-0655-4505-9e76-9bb229020836 div.sk-parallel-item:last-child::after {align-self: flex-start;width: 50%;}#sk-a8bc381c-0655-4505-9e76-9bb229020836 div.sk-parallel-item:only-child::after {width: 0;}#sk-a8bc381c-0655-4505-9e76-9bb229020836 div.sk-dashed-wrapped {border: 1px dashed gray;margin: 0 0.4em 0.5em 0.4em;box-sizing: border-box;padding-bottom: 0.4em;background-color: white;position: relative;}#sk-a8bc381c-0655-4505-9e76-9bb229020836 div.sk-label label {font-family: monospace;font-weight: bold;background-color: white;display: inline-block;line-height: 1.2em;}#sk-a8bc381c-0655-4505-9e76-9bb229020836 div.sk-label-container {position: relative;z-index: 2;text-align: center;}#sk-a8bc381c-0655-4505-9e76-9bb229020836 div.sk-container {/* jupyter's `normalize.less` sets `[hidden] { display: none; }` but bootstrap.min.css set `[hidden] { display: none !important; }` so we also need the `!important` here to be able to override the default hidden behavior on the sphinx rendered scikit-learn.org. See: https://github.com/scikit-learn/scikit-learn/issues/21755 */display: inline-block !important;position: relative;}#sk-a8bc381c-0655-4505-9e76-9bb229020836 div.sk-text-repr-fallback {display: none;}</style><div id=\"sk-a8bc381c-0655-4505-9e76-9bb229020836\" class=\"sk-top-container\"><div class=\"sk-text-repr-fallback\"><pre>GridSearchCV(cv=5,\n",
       "             estimator=Pipeline(steps=[(&#x27;StandardScaler&#x27;, StandardScaler()),\n",
       "                                       (&#x27;PolynomialFeatures&#x27;,\n",
       "                                        PolynomialFeatures()),\n",
       "                                       (&#x27;LinearRegression&#x27;,\n",
       "                                        LinearRegression())]),\n",
       "             param_grid={&#x27;LinearRegression__fit_intercept&#x27;: [True, False],\n",
       "                         &#x27;PolynomialFeatures__degree&#x27;: [2, 3, 4, 5, 6, 7]},\n",
       "             scoring=&#x27;neg_mean_squared_error&#x27;)</pre><b>Please rerun this cell to show the HTML repr or trust the notebook.</b></div><div class=\"sk-container\" hidden><div class=\"sk-item sk-dashed-wrapped\"><div class=\"sk-label-container\"><div class=\"sk-label sk-toggleable\"><input class=\"sk-toggleable__control sk-hidden--visually\" id=\"d9314a21-5674-45f1-bfc2-8182a3b4d97d\" type=\"checkbox\" ><label for=\"d9314a21-5674-45f1-bfc2-8182a3b4d97d\" class=\"sk-toggleable__label sk-toggleable__label-arrow\">GridSearchCV</label><div class=\"sk-toggleable__content\"><pre>GridSearchCV(cv=5,\n",
       "             estimator=Pipeline(steps=[(&#x27;StandardScaler&#x27;, StandardScaler()),\n",
       "                                       (&#x27;PolynomialFeatures&#x27;,\n",
       "                                        PolynomialFeatures()),\n",
       "                                       (&#x27;LinearRegression&#x27;,\n",
       "                                        LinearRegression())]),\n",
       "             param_grid={&#x27;LinearRegression__fit_intercept&#x27;: [True, False],\n",
       "                         &#x27;PolynomialFeatures__degree&#x27;: [2, 3, 4, 5, 6, 7]},\n",
       "             scoring=&#x27;neg_mean_squared_error&#x27;)</pre></div></div></div><div class=\"sk-parallel\"><div class=\"sk-parallel-item\"><div class=\"sk-item\"><div class=\"sk-serial\"><div class=\"sk-item\"><div class=\"sk-serial\"><div class=\"sk-item\"><div class=\"sk-estimator sk-toggleable\"><input class=\"sk-toggleable__control sk-hidden--visually\" id=\"1400222f-0db5-4e74-ac79-e52c060651f8\" type=\"checkbox\" ><label for=\"1400222f-0db5-4e74-ac79-e52c060651f8\" class=\"sk-toggleable__label sk-toggleable__label-arrow\">StandardScaler</label><div class=\"sk-toggleable__content\"><pre>StandardScaler()</pre></div></div></div><div class=\"sk-item\"><div class=\"sk-estimator sk-toggleable\"><input class=\"sk-toggleable__control sk-hidden--visually\" id=\"5fe78f5e-6311-48e0-a688-69a7d0530b94\" type=\"checkbox\" ><label for=\"5fe78f5e-6311-48e0-a688-69a7d0530b94\" class=\"sk-toggleable__label sk-toggleable__label-arrow\">PolynomialFeatures</label><div class=\"sk-toggleable__content\"><pre>PolynomialFeatures()</pre></div></div></div><div class=\"sk-item\"><div class=\"sk-estimator sk-toggleable\"><input class=\"sk-toggleable__control sk-hidden--visually\" id=\"80ec6a55-95c2-48cd-88d7-bc1277c5b327\" type=\"checkbox\" ><label for=\"80ec6a55-95c2-48cd-88d7-bc1277c5b327\" class=\"sk-toggleable__label sk-toggleable__label-arrow\">LinearRegression</label><div class=\"sk-toggleable__content\"><pre>LinearRegression()</pre></div></div></div></div></div></div></div></div></div></div></div></div>"
      ],
      "text/plain": [
       "GridSearchCV(cv=5,\n",
       "             estimator=Pipeline(steps=[('StandardScaler', StandardScaler()),\n",
       "                                       ('PolynomialFeatures',\n",
       "                                        PolynomialFeatures()),\n",
       "                                       ('LinearRegression',\n",
       "                                        LinearRegression())]),\n",
       "             param_grid={'LinearRegression__fit_intercept': [True, False],\n",
       "                         'PolynomialFeatures__degree': [2, 3, 4, 5, 6, 7]},\n",
       "             scoring='neg_mean_squared_error')"
      ]
     },
     "execution_count": 215,
     "metadata": {},
     "output_type": "execute_result"
    }
   ],
   "source": [
    "from sklearn.pipeline import Pipeline\n",
    "from sklearn.model_selection import GridSearchCV\n",
    "from sklearn.preprocessing import PolynomialFeatures\n",
    "from sklearn.linear_model import LinearRegression\n",
    "\n",
    "poly=PolynomialFeatures()\n",
    "lin=LinearRegression()\n",
    "scatler=StandardScaler()\n",
    "\n",
    "opera=[('StandardScaler',scatler),('PolynomialFeatures',poly),('LinearRegression',lin)]\n",
    "pipeline=Pipeline(opera)\n",
    "\n",
    "\n",
    "\n",
    "# Definisikan grid parameter untuk dicari\n",
    "param_grid = {\n",
    "    'PolynomialFeatures__degree': [2, 3, 4,5,6,7],        # Derajat polinomial yang akan dicoba\n",
    "    \n",
    "    'LinearRegression__fit_intercept': [True, False]# Pilihan untuk normalisasi regresi\n",
    "}\n",
    "\n",
    "\n",
    "from sklearn.model_selection import GridSearchCV\n",
    "# Inisialisasi GridSearchCV\n",
    "\n",
    "\n",
    "# Inisialisasi GridSearchCV dengan menggunakan MAE sebagai skor evaluasi\n",
    "grid_search = GridSearchCV(pipeline, param_grid, cv=5,  scoring='neg_mean_squared_error')\n",
    "\n",
    "# Lakukan pencarian grid\n",
    "grid_search.fit(X_train, y_train)\n"
   ]
  },
  {
   "cell_type": "code",
   "execution_count": 216,
   "id": "aa8aa407",
   "metadata": {},
   "outputs": [
    {
     "data": {
      "text/html": [
       "<div>\n",
       "<style scoped>\n",
       "    .dataframe tbody tr th:only-of-type {\n",
       "        vertical-align: middle;\n",
       "    }\n",
       "\n",
       "    .dataframe tbody tr th {\n",
       "        vertical-align: top;\n",
       "    }\n",
       "\n",
       "    .dataframe thead th {\n",
       "        text-align: right;\n",
       "    }\n",
       "</style>\n",
       "<table border=\"1\" class=\"dataframe\">\n",
       "  <thead>\n",
       "    <tr style=\"text-align: right;\">\n",
       "      <th></th>\n",
       "      <th>mean_fit_time</th>\n",
       "      <th>std_fit_time</th>\n",
       "      <th>mean_score_time</th>\n",
       "      <th>std_score_time</th>\n",
       "      <th>param_LinearRegression__fit_intercept</th>\n",
       "      <th>param_PolynomialFeatures__degree</th>\n",
       "      <th>params</th>\n",
       "      <th>split0_test_score</th>\n",
       "      <th>split1_test_score</th>\n",
       "      <th>split2_test_score</th>\n",
       "      <th>split3_test_score</th>\n",
       "      <th>split4_test_score</th>\n",
       "      <th>mean_test_score</th>\n",
       "      <th>std_test_score</th>\n",
       "      <th>rank_test_score</th>\n",
       "    </tr>\n",
       "  </thead>\n",
       "  <tbody>\n",
       "    <tr>\n",
       "      <th>7</th>\n",
       "      <td>0.004686</td>\n",
       "      <td>0.007310</td>\n",
       "      <td>0.002314</td>\n",
       "      <td>0.004628</td>\n",
       "      <td>False</td>\n",
       "      <td>3</td>\n",
       "      <td>{'LinearRegression__fit_intercept': False, 'Po...</td>\n",
       "      <td>-0.779523</td>\n",
       "      <td>-0.662875</td>\n",
       "      <td>-0.126662</td>\n",
       "      <td>-0.166336</td>\n",
       "      <td>-0.197063</td>\n",
       "      <td>-0.386492</td>\n",
       "      <td>0.276668</td>\n",
       "      <td>1</td>\n",
       "    </tr>\n",
       "    <tr>\n",
       "      <th>1</th>\n",
       "      <td>0.008185</td>\n",
       "      <td>0.004588</td>\n",
       "      <td>0.005390</td>\n",
       "      <td>0.003412</td>\n",
       "      <td>True</td>\n",
       "      <td>3</td>\n",
       "      <td>{'LinearRegression__fit_intercept': True, 'Pol...</td>\n",
       "      <td>-0.779523</td>\n",
       "      <td>-0.662875</td>\n",
       "      <td>-0.126662</td>\n",
       "      <td>-0.166336</td>\n",
       "      <td>-0.197063</td>\n",
       "      <td>-0.386492</td>\n",
       "      <td>0.276668</td>\n",
       "      <td>2</td>\n",
       "    </tr>\n",
       "    <tr>\n",
       "      <th>8</th>\n",
       "      <td>0.007947</td>\n",
       "      <td>0.007245</td>\n",
       "      <td>0.000000</td>\n",
       "      <td>0.000000</td>\n",
       "      <td>False</td>\n",
       "      <td>4</td>\n",
       "      <td>{'LinearRegression__fit_intercept': False, 'Po...</td>\n",
       "      <td>-0.656132</td>\n",
       "      <td>-0.608026</td>\n",
       "      <td>-0.204625</td>\n",
       "      <td>-0.214348</td>\n",
       "      <td>-0.279519</td>\n",
       "      <td>-0.392530</td>\n",
       "      <td>0.197865</td>\n",
       "      <td>3</td>\n",
       "    </tr>\n",
       "    <tr>\n",
       "      <th>0</th>\n",
       "      <td>0.009202</td>\n",
       "      <td>0.002804</td>\n",
       "      <td>0.002658</td>\n",
       "      <td>0.001570</td>\n",
       "      <td>True</td>\n",
       "      <td>2</td>\n",
       "      <td>{'LinearRegression__fit_intercept': True, 'Pol...</td>\n",
       "      <td>-1.100718</td>\n",
       "      <td>-0.207837</td>\n",
       "      <td>-0.315704</td>\n",
       "      <td>-0.193970</td>\n",
       "      <td>-0.286509</td>\n",
       "      <td>-0.420948</td>\n",
       "      <td>0.342979</td>\n",
       "      <td>4</td>\n",
       "    </tr>\n",
       "    <tr>\n",
       "      <th>6</th>\n",
       "      <td>0.003535</td>\n",
       "      <td>0.005624</td>\n",
       "      <td>0.002771</td>\n",
       "      <td>0.005541</td>\n",
       "      <td>False</td>\n",
       "      <td>2</td>\n",
       "      <td>{'LinearRegression__fit_intercept': False, 'Po...</td>\n",
       "      <td>-1.100718</td>\n",
       "      <td>-0.207837</td>\n",
       "      <td>-0.315704</td>\n",
       "      <td>-0.193970</td>\n",
       "      <td>-0.286509</td>\n",
       "      <td>-0.420948</td>\n",
       "      <td>0.342979</td>\n",
       "      <td>5</td>\n",
       "    </tr>\n",
       "    <tr>\n",
       "      <th>9</th>\n",
       "      <td>0.014245</td>\n",
       "      <td>0.003947</td>\n",
       "      <td>0.000696</td>\n",
       "      <td>0.001391</td>\n",
       "      <td>False</td>\n",
       "      <td>5</td>\n",
       "      <td>{'LinearRegression__fit_intercept': False, 'Po...</td>\n",
       "      <td>-0.307708</td>\n",
       "      <td>-3.524462</td>\n",
       "      <td>-0.122986</td>\n",
       "      <td>-0.223158</td>\n",
       "      <td>-0.213656</td>\n",
       "      <td>-0.878394</td>\n",
       "      <td>1.324327</td>\n",
       "      <td>6</td>\n",
       "    </tr>\n",
       "    <tr>\n",
       "      <th>2</th>\n",
       "      <td>0.011293</td>\n",
       "      <td>0.007498</td>\n",
       "      <td>0.005857</td>\n",
       "      <td>0.006223</td>\n",
       "      <td>True</td>\n",
       "      <td>4</td>\n",
       "      <td>{'LinearRegression__fit_intercept': True, 'Pol...</td>\n",
       "      <td>-0.650619</td>\n",
       "      <td>-56.244333</td>\n",
       "      <td>-0.204625</td>\n",
       "      <td>-0.214348</td>\n",
       "      <td>-0.279519</td>\n",
       "      <td>-11.518689</td>\n",
       "      <td>22.363422</td>\n",
       "      <td>7</td>\n",
       "    </tr>\n",
       "    <tr>\n",
       "      <th>3</th>\n",
       "      <td>0.015344</td>\n",
       "      <td>0.002761</td>\n",
       "      <td>0.003006</td>\n",
       "      <td>0.002512</td>\n",
       "      <td>True</td>\n",
       "      <td>5</td>\n",
       "      <td>{'LinearRegression__fit_intercept': True, 'Pol...</td>\n",
       "      <td>-0.378271</td>\n",
       "      <td>-61.926897</td>\n",
       "      <td>-1.279254</td>\n",
       "      <td>-1.145503</td>\n",
       "      <td>-0.686918</td>\n",
       "      <td>-13.083368</td>\n",
       "      <td>24.423888</td>\n",
       "      <td>8</td>\n",
       "    </tr>\n",
       "    <tr>\n",
       "      <th>10</th>\n",
       "      <td>0.026636</td>\n",
       "      <td>0.001614</td>\n",
       "      <td>0.001055</td>\n",
       "      <td>0.001151</td>\n",
       "      <td>False</td>\n",
       "      <td>6</td>\n",
       "      <td>{'LinearRegression__fit_intercept': False, 'Po...</td>\n",
       "      <td>-0.902142</td>\n",
       "      <td>-1631.565254</td>\n",
       "      <td>-0.469634</td>\n",
       "      <td>-0.414732</td>\n",
       "      <td>-0.240617</td>\n",
       "      <td>-326.718476</td>\n",
       "      <td>652.423425</td>\n",
       "      <td>9</td>\n",
       "    </tr>\n",
       "    <tr>\n",
       "      <th>4</th>\n",
       "      <td>0.026652</td>\n",
       "      <td>0.005320</td>\n",
       "      <td>0.003267</td>\n",
       "      <td>0.001986</td>\n",
       "      <td>True</td>\n",
       "      <td>6</td>\n",
       "      <td>{'LinearRegression__fit_intercept': True, 'Pol...</td>\n",
       "      <td>-3.409551</td>\n",
       "      <td>-2610.186580</td>\n",
       "      <td>-0.686341</td>\n",
       "      <td>-0.761582</td>\n",
       "      <td>-0.232301</td>\n",
       "      <td>-523.055271</td>\n",
       "      <td>1043.566254</td>\n",
       "      <td>10</td>\n",
       "    </tr>\n",
       "    <tr>\n",
       "      <th>11</th>\n",
       "      <td>0.061801</td>\n",
       "      <td>0.003548</td>\n",
       "      <td>0.000841</td>\n",
       "      <td>0.001202</td>\n",
       "      <td>False</td>\n",
       "      <td>7</td>\n",
       "      <td>{'LinearRegression__fit_intercept': False, 'Po...</td>\n",
       "      <td>-28.929571</td>\n",
       "      <td>-67398.711199</td>\n",
       "      <td>-263.866243</td>\n",
       "      <td>-1.685003</td>\n",
       "      <td>-6.482477</td>\n",
       "      <td>-13539.934899</td>\n",
       "      <td>26929.565883</td>\n",
       "      <td>11</td>\n",
       "    </tr>\n",
       "    <tr>\n",
       "      <th>5</th>\n",
       "      <td>0.061457</td>\n",
       "      <td>0.003527</td>\n",
       "      <td>0.003800</td>\n",
       "      <td>0.004704</td>\n",
       "      <td>True</td>\n",
       "      <td>7</td>\n",
       "      <td>{'LinearRegression__fit_intercept': True, 'Pol...</td>\n",
       "      <td>-46.108067</td>\n",
       "      <td>-68200.888493</td>\n",
       "      <td>-137.030539</td>\n",
       "      <td>-1.983337</td>\n",
       "      <td>-6.443387</td>\n",
       "      <td>-13678.490765</td>\n",
       "      <td>27261.242055</td>\n",
       "      <td>12</td>\n",
       "    </tr>\n",
       "  </tbody>\n",
       "</table>\n",
       "</div>"
      ],
      "text/plain": [
       "    mean_fit_time  std_fit_time  mean_score_time  std_score_time  \\\n",
       "7        0.004686      0.007310         0.002314        0.004628   \n",
       "1        0.008185      0.004588         0.005390        0.003412   \n",
       "8        0.007947      0.007245         0.000000        0.000000   \n",
       "0        0.009202      0.002804         0.002658        0.001570   \n",
       "6        0.003535      0.005624         0.002771        0.005541   \n",
       "9        0.014245      0.003947         0.000696        0.001391   \n",
       "2        0.011293      0.007498         0.005857        0.006223   \n",
       "3        0.015344      0.002761         0.003006        0.002512   \n",
       "10       0.026636      0.001614         0.001055        0.001151   \n",
       "4        0.026652      0.005320         0.003267        0.001986   \n",
       "11       0.061801      0.003548         0.000841        0.001202   \n",
       "5        0.061457      0.003527         0.003800        0.004704   \n",
       "\n",
       "   param_LinearRegression__fit_intercept param_PolynomialFeatures__degree  \\\n",
       "7                                  False                                3   \n",
       "1                                   True                                3   \n",
       "8                                  False                                4   \n",
       "0                                   True                                2   \n",
       "6                                  False                                2   \n",
       "9                                  False                                5   \n",
       "2                                   True                                4   \n",
       "3                                   True                                5   \n",
       "10                                 False                                6   \n",
       "4                                   True                                6   \n",
       "11                                 False                                7   \n",
       "5                                   True                                7   \n",
       "\n",
       "                                               params  split0_test_score  \\\n",
       "7   {'LinearRegression__fit_intercept': False, 'Po...          -0.779523   \n",
       "1   {'LinearRegression__fit_intercept': True, 'Pol...          -0.779523   \n",
       "8   {'LinearRegression__fit_intercept': False, 'Po...          -0.656132   \n",
       "0   {'LinearRegression__fit_intercept': True, 'Pol...          -1.100718   \n",
       "6   {'LinearRegression__fit_intercept': False, 'Po...          -1.100718   \n",
       "9   {'LinearRegression__fit_intercept': False, 'Po...          -0.307708   \n",
       "2   {'LinearRegression__fit_intercept': True, 'Pol...          -0.650619   \n",
       "3   {'LinearRegression__fit_intercept': True, 'Pol...          -0.378271   \n",
       "10  {'LinearRegression__fit_intercept': False, 'Po...          -0.902142   \n",
       "4   {'LinearRegression__fit_intercept': True, 'Pol...          -3.409551   \n",
       "11  {'LinearRegression__fit_intercept': False, 'Po...         -28.929571   \n",
       "5   {'LinearRegression__fit_intercept': True, 'Pol...         -46.108067   \n",
       "\n",
       "    split1_test_score  split2_test_score  split3_test_score  \\\n",
       "7           -0.662875          -0.126662          -0.166336   \n",
       "1           -0.662875          -0.126662          -0.166336   \n",
       "8           -0.608026          -0.204625          -0.214348   \n",
       "0           -0.207837          -0.315704          -0.193970   \n",
       "6           -0.207837          -0.315704          -0.193970   \n",
       "9           -3.524462          -0.122986          -0.223158   \n",
       "2          -56.244333          -0.204625          -0.214348   \n",
       "3          -61.926897          -1.279254          -1.145503   \n",
       "10       -1631.565254          -0.469634          -0.414732   \n",
       "4        -2610.186580          -0.686341          -0.761582   \n",
       "11      -67398.711199        -263.866243          -1.685003   \n",
       "5       -68200.888493        -137.030539          -1.983337   \n",
       "\n",
       "    split4_test_score  mean_test_score  std_test_score  rank_test_score  \n",
       "7           -0.197063        -0.386492        0.276668                1  \n",
       "1           -0.197063        -0.386492        0.276668                2  \n",
       "8           -0.279519        -0.392530        0.197865                3  \n",
       "0           -0.286509        -0.420948        0.342979                4  \n",
       "6           -0.286509        -0.420948        0.342979                5  \n",
       "9           -0.213656        -0.878394        1.324327                6  \n",
       "2           -0.279519       -11.518689       22.363422                7  \n",
       "3           -0.686918       -13.083368       24.423888                8  \n",
       "10          -0.240617      -326.718476      652.423425                9  \n",
       "4           -0.232301      -523.055271     1043.566254               10  \n",
       "11          -6.482477    -13539.934899    26929.565883               11  \n",
       "5           -6.443387    -13678.490765    27261.242055               12  "
      ]
     },
     "execution_count": 216,
     "metadata": {},
     "output_type": "execute_result"
    }
   ],
   "source": [
    "\n",
    "df_1 = pd.DataFrame(grid_search.cv_results_)\n",
    "df_1.drop_duplicates(subset=['mean_test_score', 'std_test_score', 'rank_test_score'], inplace=True)\n",
    "df_1 = df_1.sort_values(by=['mean_test_score', 'std_test_score'], ascending=[False, True])\n",
    "df_1.head(20)"
   ]
  },
  {
   "cell_type": "markdown",
   "id": "c4dbba54",
   "metadata": {},
   "source": [
    "# coba drop newspaper"
   ]
  },
  {
   "cell_type": "code",
   "execution_count": 217,
   "id": "db779067",
   "metadata": {},
   "outputs": [
    {
     "data": {
      "text/plain": [
       "(179, 20)"
      ]
     },
     "execution_count": 217,
     "metadata": {},
     "output_type": "execute_result"
    }
   ],
   "source": [
    "X = df.drop(['sales','newspaper'],axis=1)\n",
    "y = df['sales']\n",
    "X_train, X_test, y_train, y_test = train_test_split(X,y, test_size=0.1, random_state=101)\n",
    "len(X_train), len(X_test)"
   ]
  },
  {
   "cell_type": "code",
   "execution_count": 218,
   "id": "21a3e632",
   "metadata": {},
   "outputs": [
    {
     "data": {
      "text/html": [
       "<style>#sk-0bcb54b8-f555-458b-8194-a89c97b1423e {color: black;background-color: white;}#sk-0bcb54b8-f555-458b-8194-a89c97b1423e pre{padding: 0;}#sk-0bcb54b8-f555-458b-8194-a89c97b1423e div.sk-toggleable {background-color: white;}#sk-0bcb54b8-f555-458b-8194-a89c97b1423e label.sk-toggleable__label {cursor: pointer;display: block;width: 100%;margin-bottom: 0;padding: 0.3em;box-sizing: border-box;text-align: center;}#sk-0bcb54b8-f555-458b-8194-a89c97b1423e label.sk-toggleable__label-arrow:before {content: \"▸\";float: left;margin-right: 0.25em;color: #696969;}#sk-0bcb54b8-f555-458b-8194-a89c97b1423e label.sk-toggleable__label-arrow:hover:before {color: black;}#sk-0bcb54b8-f555-458b-8194-a89c97b1423e div.sk-estimator:hover label.sk-toggleable__label-arrow:before {color: black;}#sk-0bcb54b8-f555-458b-8194-a89c97b1423e div.sk-toggleable__content {max-height: 0;max-width: 0;overflow: hidden;text-align: left;background-color: #f0f8ff;}#sk-0bcb54b8-f555-458b-8194-a89c97b1423e div.sk-toggleable__content pre {margin: 0.2em;color: black;border-radius: 0.25em;background-color: #f0f8ff;}#sk-0bcb54b8-f555-458b-8194-a89c97b1423e input.sk-toggleable__control:checked~div.sk-toggleable__content {max-height: 200px;max-width: 100%;overflow: auto;}#sk-0bcb54b8-f555-458b-8194-a89c97b1423e input.sk-toggleable__control:checked~label.sk-toggleable__label-arrow:before {content: \"▾\";}#sk-0bcb54b8-f555-458b-8194-a89c97b1423e div.sk-estimator input.sk-toggleable__control:checked~label.sk-toggleable__label {background-color: #d4ebff;}#sk-0bcb54b8-f555-458b-8194-a89c97b1423e div.sk-label input.sk-toggleable__control:checked~label.sk-toggleable__label {background-color: #d4ebff;}#sk-0bcb54b8-f555-458b-8194-a89c97b1423e input.sk-hidden--visually {border: 0;clip: rect(1px 1px 1px 1px);clip: rect(1px, 1px, 1px, 1px);height: 1px;margin: -1px;overflow: hidden;padding: 0;position: absolute;width: 1px;}#sk-0bcb54b8-f555-458b-8194-a89c97b1423e div.sk-estimator {font-family: monospace;background-color: #f0f8ff;border: 1px dotted black;border-radius: 0.25em;box-sizing: border-box;margin-bottom: 0.5em;}#sk-0bcb54b8-f555-458b-8194-a89c97b1423e div.sk-estimator:hover {background-color: #d4ebff;}#sk-0bcb54b8-f555-458b-8194-a89c97b1423e div.sk-parallel-item::after {content: \"\";width: 100%;border-bottom: 1px solid gray;flex-grow: 1;}#sk-0bcb54b8-f555-458b-8194-a89c97b1423e div.sk-label:hover label.sk-toggleable__label {background-color: #d4ebff;}#sk-0bcb54b8-f555-458b-8194-a89c97b1423e div.sk-serial::before {content: \"\";position: absolute;border-left: 1px solid gray;box-sizing: border-box;top: 2em;bottom: 0;left: 50%;}#sk-0bcb54b8-f555-458b-8194-a89c97b1423e div.sk-serial {display: flex;flex-direction: column;align-items: center;background-color: white;padding-right: 0.2em;padding-left: 0.2em;}#sk-0bcb54b8-f555-458b-8194-a89c97b1423e div.sk-item {z-index: 1;}#sk-0bcb54b8-f555-458b-8194-a89c97b1423e div.sk-parallel {display: flex;align-items: stretch;justify-content: center;background-color: white;}#sk-0bcb54b8-f555-458b-8194-a89c97b1423e div.sk-parallel::before {content: \"\";position: absolute;border-left: 1px solid gray;box-sizing: border-box;top: 2em;bottom: 0;left: 50%;}#sk-0bcb54b8-f555-458b-8194-a89c97b1423e div.sk-parallel-item {display: flex;flex-direction: column;position: relative;background-color: white;}#sk-0bcb54b8-f555-458b-8194-a89c97b1423e div.sk-parallel-item:first-child::after {align-self: flex-end;width: 50%;}#sk-0bcb54b8-f555-458b-8194-a89c97b1423e div.sk-parallel-item:last-child::after {align-self: flex-start;width: 50%;}#sk-0bcb54b8-f555-458b-8194-a89c97b1423e div.sk-parallel-item:only-child::after {width: 0;}#sk-0bcb54b8-f555-458b-8194-a89c97b1423e div.sk-dashed-wrapped {border: 1px dashed gray;margin: 0 0.4em 0.5em 0.4em;box-sizing: border-box;padding-bottom: 0.4em;background-color: white;position: relative;}#sk-0bcb54b8-f555-458b-8194-a89c97b1423e div.sk-label label {font-family: monospace;font-weight: bold;background-color: white;display: inline-block;line-height: 1.2em;}#sk-0bcb54b8-f555-458b-8194-a89c97b1423e div.sk-label-container {position: relative;z-index: 2;text-align: center;}#sk-0bcb54b8-f555-458b-8194-a89c97b1423e div.sk-container {/* jupyter's `normalize.less` sets `[hidden] { display: none; }` but bootstrap.min.css set `[hidden] { display: none !important; }` so we also need the `!important` here to be able to override the default hidden behavior on the sphinx rendered scikit-learn.org. See: https://github.com/scikit-learn/scikit-learn/issues/21755 */display: inline-block !important;position: relative;}#sk-0bcb54b8-f555-458b-8194-a89c97b1423e div.sk-text-repr-fallback {display: none;}</style><div id=\"sk-0bcb54b8-f555-458b-8194-a89c97b1423e\" class=\"sk-top-container\"><div class=\"sk-text-repr-fallback\"><pre>GridSearchCV(cv=5,\n",
       "             estimator=Pipeline(steps=[(&#x27;StandardScaler&#x27;, StandardScaler()),\n",
       "                                       (&#x27;PolynomialFeatures&#x27;,\n",
       "                                        PolynomialFeatures()),\n",
       "                                       (&#x27;LinearRegression&#x27;,\n",
       "                                        LinearRegression())]),\n",
       "             param_grid={&#x27;LinearRegression__fit_intercept&#x27;: [True, False],\n",
       "                         &#x27;PolynomialFeatures__degree&#x27;: [2, 3, 4, 5, 6, 7]},\n",
       "             scoring=&#x27;neg_mean_squared_error&#x27;)</pre><b>Please rerun this cell to show the HTML repr or trust the notebook.</b></div><div class=\"sk-container\" hidden><div class=\"sk-item sk-dashed-wrapped\"><div class=\"sk-label-container\"><div class=\"sk-label sk-toggleable\"><input class=\"sk-toggleable__control sk-hidden--visually\" id=\"4a84c90e-c1c4-4d24-8edd-d7cf31bf7805\" type=\"checkbox\" ><label for=\"4a84c90e-c1c4-4d24-8edd-d7cf31bf7805\" class=\"sk-toggleable__label sk-toggleable__label-arrow\">GridSearchCV</label><div class=\"sk-toggleable__content\"><pre>GridSearchCV(cv=5,\n",
       "             estimator=Pipeline(steps=[(&#x27;StandardScaler&#x27;, StandardScaler()),\n",
       "                                       (&#x27;PolynomialFeatures&#x27;,\n",
       "                                        PolynomialFeatures()),\n",
       "                                       (&#x27;LinearRegression&#x27;,\n",
       "                                        LinearRegression())]),\n",
       "             param_grid={&#x27;LinearRegression__fit_intercept&#x27;: [True, False],\n",
       "                         &#x27;PolynomialFeatures__degree&#x27;: [2, 3, 4, 5, 6, 7]},\n",
       "             scoring=&#x27;neg_mean_squared_error&#x27;)</pre></div></div></div><div class=\"sk-parallel\"><div class=\"sk-parallel-item\"><div class=\"sk-item\"><div class=\"sk-serial\"><div class=\"sk-item\"><div class=\"sk-serial\"><div class=\"sk-item\"><div class=\"sk-estimator sk-toggleable\"><input class=\"sk-toggleable__control sk-hidden--visually\" id=\"bb415733-a32d-4e2b-9e30-32e337ae9df2\" type=\"checkbox\" ><label for=\"bb415733-a32d-4e2b-9e30-32e337ae9df2\" class=\"sk-toggleable__label sk-toggleable__label-arrow\">StandardScaler</label><div class=\"sk-toggleable__content\"><pre>StandardScaler()</pre></div></div></div><div class=\"sk-item\"><div class=\"sk-estimator sk-toggleable\"><input class=\"sk-toggleable__control sk-hidden--visually\" id=\"750201ee-21c2-4d22-9831-300e239cb534\" type=\"checkbox\" ><label for=\"750201ee-21c2-4d22-9831-300e239cb534\" class=\"sk-toggleable__label sk-toggleable__label-arrow\">PolynomialFeatures</label><div class=\"sk-toggleable__content\"><pre>PolynomialFeatures()</pre></div></div></div><div class=\"sk-item\"><div class=\"sk-estimator sk-toggleable\"><input class=\"sk-toggleable__control sk-hidden--visually\" id=\"33e43d8b-ba0b-4446-b1bc-9ea6d0a83a6c\" type=\"checkbox\" ><label for=\"33e43d8b-ba0b-4446-b1bc-9ea6d0a83a6c\" class=\"sk-toggleable__label sk-toggleable__label-arrow\">LinearRegression</label><div class=\"sk-toggleable__content\"><pre>LinearRegression()</pre></div></div></div></div></div></div></div></div></div></div></div></div>"
      ],
      "text/plain": [
       "GridSearchCV(cv=5,\n",
       "             estimator=Pipeline(steps=[('StandardScaler', StandardScaler()),\n",
       "                                       ('PolynomialFeatures',\n",
       "                                        PolynomialFeatures()),\n",
       "                                       ('LinearRegression',\n",
       "                                        LinearRegression())]),\n",
       "             param_grid={'LinearRegression__fit_intercept': [True, False],\n",
       "                         'PolynomialFeatures__degree': [2, 3, 4, 5, 6, 7]},\n",
       "             scoring='neg_mean_squared_error')"
      ]
     },
     "execution_count": 218,
     "metadata": {},
     "output_type": "execute_result"
    }
   ],
   "source": [
    "# Inisialisasi GridSearchCV dengan menggunakan MAE sebagai skor evaluasi\n",
    "grid_search = GridSearchCV(pipeline, param_grid, cv=5,  scoring='neg_mean_squared_error')\n",
    "\n",
    "# Lakukan pencarian grid\n",
    "grid_search.fit(X_train, y_train)"
   ]
  },
  {
   "cell_type": "code",
   "execution_count": 219,
   "id": "715182df",
   "metadata": {},
   "outputs": [
    {
     "data": {
      "text/html": [
       "<div>\n",
       "<style scoped>\n",
       "    .dataframe tbody tr th:only-of-type {\n",
       "        vertical-align: middle;\n",
       "    }\n",
       "\n",
       "    .dataframe tbody tr th {\n",
       "        vertical-align: top;\n",
       "    }\n",
       "\n",
       "    .dataframe thead th {\n",
       "        text-align: right;\n",
       "    }\n",
       "</style>\n",
       "<table border=\"1\" class=\"dataframe\">\n",
       "  <thead>\n",
       "    <tr style=\"text-align: right;\">\n",
       "      <th></th>\n",
       "      <th>mean_fit_time</th>\n",
       "      <th>std_fit_time</th>\n",
       "      <th>mean_score_time</th>\n",
       "      <th>std_score_time</th>\n",
       "      <th>param_LinearRegression__fit_intercept</th>\n",
       "      <th>param_PolynomialFeatures__degree</th>\n",
       "      <th>params</th>\n",
       "      <th>split0_test_score</th>\n",
       "      <th>split1_test_score</th>\n",
       "      <th>split2_test_score</th>\n",
       "      <th>split3_test_score</th>\n",
       "      <th>split4_test_score</th>\n",
       "      <th>mean_test_score</th>\n",
       "      <th>std_test_score</th>\n",
       "      <th>rank_test_score</th>\n",
       "    </tr>\n",
       "  </thead>\n",
       "  <tbody>\n",
       "    <tr>\n",
       "      <th>10</th>\n",
       "      <td>0.007565</td>\n",
       "      <td>0.007006</td>\n",
       "      <td>0.003125</td>\n",
       "      <td>0.006249</td>\n",
       "      <td>False</td>\n",
       "      <td>6</td>\n",
       "      <td>{'LinearRegression__fit_intercept': False, 'Po...</td>\n",
       "      <td>-0.545429</td>\n",
       "      <td>-0.090906</td>\n",
       "      <td>-0.130978</td>\n",
       "      <td>-0.126439</td>\n",
       "      <td>-0.197246</td>\n",
       "      <td>-0.218200</td>\n",
       "      <td>0.167182</td>\n",
       "      <td>1</td>\n",
       "    </tr>\n",
       "    <tr>\n",
       "      <th>8</th>\n",
       "      <td>0.006237</td>\n",
       "      <td>0.007639</td>\n",
       "      <td>0.000000</td>\n",
       "      <td>0.000000</td>\n",
       "      <td>False</td>\n",
       "      <td>4</td>\n",
       "      <td>{'LinearRegression__fit_intercept': False, 'Po...</td>\n",
       "      <td>-0.676758</td>\n",
       "      <td>-0.153785</td>\n",
       "      <td>-0.147109</td>\n",
       "      <td>-0.104928</td>\n",
       "      <td>-0.139138</td>\n",
       "      <td>-0.244343</td>\n",
       "      <td>0.216860</td>\n",
       "      <td>2</td>\n",
       "    </tr>\n",
       "    <tr>\n",
       "      <th>2</th>\n",
       "      <td>0.002947</td>\n",
       "      <td>0.005893</td>\n",
       "      <td>0.003500</td>\n",
       "      <td>0.006999</td>\n",
       "      <td>True</td>\n",
       "      <td>4</td>\n",
       "      <td>{'LinearRegression__fit_intercept': True, 'Pol...</td>\n",
       "      <td>-0.676758</td>\n",
       "      <td>-0.153785</td>\n",
       "      <td>-0.147109</td>\n",
       "      <td>-0.104928</td>\n",
       "      <td>-0.139138</td>\n",
       "      <td>-0.244343</td>\n",
       "      <td>0.216860</td>\n",
       "      <td>3</td>\n",
       "    </tr>\n",
       "    <tr>\n",
       "      <th>9</th>\n",
       "      <td>0.003092</td>\n",
       "      <td>0.006185</td>\n",
       "      <td>0.003164</td>\n",
       "      <td>0.006327</td>\n",
       "      <td>False</td>\n",
       "      <td>5</td>\n",
       "      <td>{'LinearRegression__fit_intercept': False, 'Po...</td>\n",
       "      <td>-0.624860</td>\n",
       "      <td>-0.107698</td>\n",
       "      <td>-0.153466</td>\n",
       "      <td>-0.111772</td>\n",
       "      <td>-0.225247</td>\n",
       "      <td>-0.244609</td>\n",
       "      <td>0.194763</td>\n",
       "      <td>4</td>\n",
       "    </tr>\n",
       "    <tr>\n",
       "      <th>3</th>\n",
       "      <td>0.006219</td>\n",
       "      <td>0.006492</td>\n",
       "      <td>0.003562</td>\n",
       "      <td>0.006112</td>\n",
       "      <td>True</td>\n",
       "      <td>5</td>\n",
       "      <td>{'LinearRegression__fit_intercept': True, 'Pol...</td>\n",
       "      <td>-0.624860</td>\n",
       "      <td>-0.107698</td>\n",
       "      <td>-0.153466</td>\n",
       "      <td>-0.111772</td>\n",
       "      <td>-0.225247</td>\n",
       "      <td>-0.244609</td>\n",
       "      <td>0.194763</td>\n",
       "      <td>5</td>\n",
       "    </tr>\n",
       "    <tr>\n",
       "      <th>1</th>\n",
       "      <td>0.007164</td>\n",
       "      <td>0.005585</td>\n",
       "      <td>0.003313</td>\n",
       "      <td>0.005887</td>\n",
       "      <td>True</td>\n",
       "      <td>3</td>\n",
       "      <td>{'LinearRegression__fit_intercept': True, 'Pol...</td>\n",
       "      <td>-0.827129</td>\n",
       "      <td>-0.124151</td>\n",
       "      <td>-0.145622</td>\n",
       "      <td>-0.122261</td>\n",
       "      <td>-0.134401</td>\n",
       "      <td>-0.270713</td>\n",
       "      <td>0.278333</td>\n",
       "      <td>6</td>\n",
       "    </tr>\n",
       "    <tr>\n",
       "      <th>7</th>\n",
       "      <td>0.003126</td>\n",
       "      <td>0.006251</td>\n",
       "      <td>0.003125</td>\n",
       "      <td>0.006250</td>\n",
       "      <td>False</td>\n",
       "      <td>3</td>\n",
       "      <td>{'LinearRegression__fit_intercept': False, 'Po...</td>\n",
       "      <td>-0.827129</td>\n",
       "      <td>-0.124151</td>\n",
       "      <td>-0.145622</td>\n",
       "      <td>-0.122261</td>\n",
       "      <td>-0.134401</td>\n",
       "      <td>-0.270713</td>\n",
       "      <td>0.278333</td>\n",
       "      <td>7</td>\n",
       "    </tr>\n",
       "    <tr>\n",
       "      <th>11</th>\n",
       "      <td>0.005038</td>\n",
       "      <td>0.006461</td>\n",
       "      <td>0.000000</td>\n",
       "      <td>0.000000</td>\n",
       "      <td>False</td>\n",
       "      <td>7</td>\n",
       "      <td>{'LinearRegression__fit_intercept': False, 'Po...</td>\n",
       "      <td>-0.714735</td>\n",
       "      <td>-0.106329</td>\n",
       "      <td>-0.178220</td>\n",
       "      <td>-0.138407</td>\n",
       "      <td>-0.220179</td>\n",
       "      <td>-0.271574</td>\n",
       "      <td>0.224850</td>\n",
       "      <td>8</td>\n",
       "    </tr>\n",
       "    <tr>\n",
       "      <th>4</th>\n",
       "      <td>0.006364</td>\n",
       "      <td>0.006424</td>\n",
       "      <td>0.002514</td>\n",
       "      <td>0.005029</td>\n",
       "      <td>True</td>\n",
       "      <td>6</td>\n",
       "      <td>{'LinearRegression__fit_intercept': True, 'Pol...</td>\n",
       "      <td>-0.470531</td>\n",
       "      <td>-0.168575</td>\n",
       "      <td>-0.188172</td>\n",
       "      <td>-0.283926</td>\n",
       "      <td>-0.331324</td>\n",
       "      <td>-0.288505</td>\n",
       "      <td>0.109030</td>\n",
       "      <td>9</td>\n",
       "    </tr>\n",
       "    <tr>\n",
       "      <th>5</th>\n",
       "      <td>0.006257</td>\n",
       "      <td>0.007663</td>\n",
       "      <td>0.003222</td>\n",
       "      <td>0.006444</td>\n",
       "      <td>True</td>\n",
       "      <td>7</td>\n",
       "      <td>{'LinearRegression__fit_intercept': True, 'Pol...</td>\n",
       "      <td>-1.262111</td>\n",
       "      <td>-0.106411</td>\n",
       "      <td>-0.259148</td>\n",
       "      <td>-0.189283</td>\n",
       "      <td>-0.248678</td>\n",
       "      <td>-0.413126</td>\n",
       "      <td>0.427950</td>\n",
       "      <td>10</td>\n",
       "    </tr>\n",
       "    <tr>\n",
       "      <th>6</th>\n",
       "      <td>0.004448</td>\n",
       "      <td>0.006175</td>\n",
       "      <td>0.005041</td>\n",
       "      <td>0.006466</td>\n",
       "      <td>False</td>\n",
       "      <td>2</td>\n",
       "      <td>{'LinearRegression__fit_intercept': False, 'Po...</td>\n",
       "      <td>-1.144313</td>\n",
       "      <td>-0.176795</td>\n",
       "      <td>-0.285695</td>\n",
       "      <td>-0.196436</td>\n",
       "      <td>-0.274680</td>\n",
       "      <td>-0.415584</td>\n",
       "      <td>0.366829</td>\n",
       "      <td>11</td>\n",
       "    </tr>\n",
       "    <tr>\n",
       "      <th>0</th>\n",
       "      <td>0.013515</td>\n",
       "      <td>0.005034</td>\n",
       "      <td>0.004331</td>\n",
       "      <td>0.003233</td>\n",
       "      <td>True</td>\n",
       "      <td>2</td>\n",
       "      <td>{'LinearRegression__fit_intercept': True, 'Pol...</td>\n",
       "      <td>-1.144313</td>\n",
       "      <td>-0.176795</td>\n",
       "      <td>-0.285695</td>\n",
       "      <td>-0.196436</td>\n",
       "      <td>-0.274680</td>\n",
       "      <td>-0.415584</td>\n",
       "      <td>0.366829</td>\n",
       "      <td>12</td>\n",
       "    </tr>\n",
       "  </tbody>\n",
       "</table>\n",
       "</div>"
      ],
      "text/plain": [
       "    mean_fit_time  std_fit_time  mean_score_time  std_score_time  \\\n",
       "10       0.007565      0.007006         0.003125        0.006249   \n",
       "8        0.006237      0.007639         0.000000        0.000000   \n",
       "2        0.002947      0.005893         0.003500        0.006999   \n",
       "9        0.003092      0.006185         0.003164        0.006327   \n",
       "3        0.006219      0.006492         0.003562        0.006112   \n",
       "1        0.007164      0.005585         0.003313        0.005887   \n",
       "7        0.003126      0.006251         0.003125        0.006250   \n",
       "11       0.005038      0.006461         0.000000        0.000000   \n",
       "4        0.006364      0.006424         0.002514        0.005029   \n",
       "5        0.006257      0.007663         0.003222        0.006444   \n",
       "6        0.004448      0.006175         0.005041        0.006466   \n",
       "0        0.013515      0.005034         0.004331        0.003233   \n",
       "\n",
       "   param_LinearRegression__fit_intercept param_PolynomialFeatures__degree  \\\n",
       "10                                 False                                6   \n",
       "8                                  False                                4   \n",
       "2                                   True                                4   \n",
       "9                                  False                                5   \n",
       "3                                   True                                5   \n",
       "1                                   True                                3   \n",
       "7                                  False                                3   \n",
       "11                                 False                                7   \n",
       "4                                   True                                6   \n",
       "5                                   True                                7   \n",
       "6                                  False                                2   \n",
       "0                                   True                                2   \n",
       "\n",
       "                                               params  split0_test_score  \\\n",
       "10  {'LinearRegression__fit_intercept': False, 'Po...          -0.545429   \n",
       "8   {'LinearRegression__fit_intercept': False, 'Po...          -0.676758   \n",
       "2   {'LinearRegression__fit_intercept': True, 'Pol...          -0.676758   \n",
       "9   {'LinearRegression__fit_intercept': False, 'Po...          -0.624860   \n",
       "3   {'LinearRegression__fit_intercept': True, 'Pol...          -0.624860   \n",
       "1   {'LinearRegression__fit_intercept': True, 'Pol...          -0.827129   \n",
       "7   {'LinearRegression__fit_intercept': False, 'Po...          -0.827129   \n",
       "11  {'LinearRegression__fit_intercept': False, 'Po...          -0.714735   \n",
       "4   {'LinearRegression__fit_intercept': True, 'Pol...          -0.470531   \n",
       "5   {'LinearRegression__fit_intercept': True, 'Pol...          -1.262111   \n",
       "6   {'LinearRegression__fit_intercept': False, 'Po...          -1.144313   \n",
       "0   {'LinearRegression__fit_intercept': True, 'Pol...          -1.144313   \n",
       "\n",
       "    split1_test_score  split2_test_score  split3_test_score  \\\n",
       "10          -0.090906          -0.130978          -0.126439   \n",
       "8           -0.153785          -0.147109          -0.104928   \n",
       "2           -0.153785          -0.147109          -0.104928   \n",
       "9           -0.107698          -0.153466          -0.111772   \n",
       "3           -0.107698          -0.153466          -0.111772   \n",
       "1           -0.124151          -0.145622          -0.122261   \n",
       "7           -0.124151          -0.145622          -0.122261   \n",
       "11          -0.106329          -0.178220          -0.138407   \n",
       "4           -0.168575          -0.188172          -0.283926   \n",
       "5           -0.106411          -0.259148          -0.189283   \n",
       "6           -0.176795          -0.285695          -0.196436   \n",
       "0           -0.176795          -0.285695          -0.196436   \n",
       "\n",
       "    split4_test_score  mean_test_score  std_test_score  rank_test_score  \n",
       "10          -0.197246        -0.218200        0.167182                1  \n",
       "8           -0.139138        -0.244343        0.216860                2  \n",
       "2           -0.139138        -0.244343        0.216860                3  \n",
       "9           -0.225247        -0.244609        0.194763                4  \n",
       "3           -0.225247        -0.244609        0.194763                5  \n",
       "1           -0.134401        -0.270713        0.278333                6  \n",
       "7           -0.134401        -0.270713        0.278333                7  \n",
       "11          -0.220179        -0.271574        0.224850                8  \n",
       "4           -0.331324        -0.288505        0.109030                9  \n",
       "5           -0.248678        -0.413126        0.427950               10  \n",
       "6           -0.274680        -0.415584        0.366829               11  \n",
       "0           -0.274680        -0.415584        0.366829               12  "
      ]
     },
     "execution_count": 219,
     "metadata": {},
     "output_type": "execute_result"
    }
   ],
   "source": [
    "\n",
    "df_2 = pd.DataFrame(grid_search.cv_results_)\n",
    "df_2.drop_duplicates(subset=['mean_test_score', 'std_test_score', 'rank_test_score'], inplace=True)\n",
    "df_2 = df_2.sort_values(by=['mean_test_score', 'std_test_score'], ascending=[False, True])\n",
    "df_2.head(20)"
   ]
  },
  {
   "cell_type": "code",
   "execution_count": 220,
   "id": "2a9e5dd5",
   "metadata": {},
   "outputs": [
    {
     "data": {
      "text/html": [
       "<div>\n",
       "<style scoped>\n",
       "    .dataframe tbody tr th:only-of-type {\n",
       "        vertical-align: middle;\n",
       "    }\n",
       "\n",
       "    .dataframe tbody tr th {\n",
       "        vertical-align: top;\n",
       "    }\n",
       "\n",
       "    .dataframe thead th {\n",
       "        text-align: right;\n",
       "    }\n",
       "</style>\n",
       "<table border=\"1\" class=\"dataframe\">\n",
       "  <thead>\n",
       "    <tr style=\"text-align: right;\">\n",
       "      <th></th>\n",
       "      <th>mean_fit_time</th>\n",
       "      <th>std_fit_time</th>\n",
       "      <th>mean_score_time</th>\n",
       "      <th>std_score_time</th>\n",
       "      <th>param_LinearRegression__fit_intercept</th>\n",
       "      <th>param_PolynomialFeatures__degree</th>\n",
       "      <th>params</th>\n",
       "      <th>split0_test_score</th>\n",
       "      <th>split1_test_score</th>\n",
       "      <th>split2_test_score</th>\n",
       "      <th>split3_test_score</th>\n",
       "      <th>split4_test_score</th>\n",
       "      <th>mean_test_score</th>\n",
       "      <th>std_test_score</th>\n",
       "      <th>rank_test_score</th>\n",
       "    </tr>\n",
       "  </thead>\n",
       "  <tbody>\n",
       "    <tr>\n",
       "      <th>10</th>\n",
       "      <td>0.007565</td>\n",
       "      <td>0.007006</td>\n",
       "      <td>0.003125</td>\n",
       "      <td>0.006249</td>\n",
       "      <td>False</td>\n",
       "      <td>6</td>\n",
       "      <td>{'LinearRegression__fit_intercept': False, 'Po...</td>\n",
       "      <td>-0.545429</td>\n",
       "      <td>-0.090906</td>\n",
       "      <td>-0.130978</td>\n",
       "      <td>-0.126439</td>\n",
       "      <td>-0.197246</td>\n",
       "      <td>-0.218200</td>\n",
       "      <td>0.167182</td>\n",
       "      <td>1</td>\n",
       "    </tr>\n",
       "    <tr>\n",
       "      <th>8</th>\n",
       "      <td>0.006237</td>\n",
       "      <td>0.007639</td>\n",
       "      <td>0.000000</td>\n",
       "      <td>0.000000</td>\n",
       "      <td>False</td>\n",
       "      <td>4</td>\n",
       "      <td>{'LinearRegression__fit_intercept': False, 'Po...</td>\n",
       "      <td>-0.676758</td>\n",
       "      <td>-0.153785</td>\n",
       "      <td>-0.147109</td>\n",
       "      <td>-0.104928</td>\n",
       "      <td>-0.139138</td>\n",
       "      <td>-0.244343</td>\n",
       "      <td>0.216860</td>\n",
       "      <td>2</td>\n",
       "    </tr>\n",
       "    <tr>\n",
       "      <th>2</th>\n",
       "      <td>0.002947</td>\n",
       "      <td>0.005893</td>\n",
       "      <td>0.003500</td>\n",
       "      <td>0.006999</td>\n",
       "      <td>True</td>\n",
       "      <td>4</td>\n",
       "      <td>{'LinearRegression__fit_intercept': True, 'Pol...</td>\n",
       "      <td>-0.676758</td>\n",
       "      <td>-0.153785</td>\n",
       "      <td>-0.147109</td>\n",
       "      <td>-0.104928</td>\n",
       "      <td>-0.139138</td>\n",
       "      <td>-0.244343</td>\n",
       "      <td>0.216860</td>\n",
       "      <td>3</td>\n",
       "    </tr>\n",
       "    <tr>\n",
       "      <th>9</th>\n",
       "      <td>0.003092</td>\n",
       "      <td>0.006185</td>\n",
       "      <td>0.003164</td>\n",
       "      <td>0.006327</td>\n",
       "      <td>False</td>\n",
       "      <td>5</td>\n",
       "      <td>{'LinearRegression__fit_intercept': False, 'Po...</td>\n",
       "      <td>-0.624860</td>\n",
       "      <td>-0.107698</td>\n",
       "      <td>-0.153466</td>\n",
       "      <td>-0.111772</td>\n",
       "      <td>-0.225247</td>\n",
       "      <td>-0.244609</td>\n",
       "      <td>0.194763</td>\n",
       "      <td>4</td>\n",
       "    </tr>\n",
       "    <tr>\n",
       "      <th>3</th>\n",
       "      <td>0.006219</td>\n",
       "      <td>0.006492</td>\n",
       "      <td>0.003562</td>\n",
       "      <td>0.006112</td>\n",
       "      <td>True</td>\n",
       "      <td>5</td>\n",
       "      <td>{'LinearRegression__fit_intercept': True, 'Pol...</td>\n",
       "      <td>-0.624860</td>\n",
       "      <td>-0.107698</td>\n",
       "      <td>-0.153466</td>\n",
       "      <td>-0.111772</td>\n",
       "      <td>-0.225247</td>\n",
       "      <td>-0.244609</td>\n",
       "      <td>0.194763</td>\n",
       "      <td>5</td>\n",
       "    </tr>\n",
       "    <tr>\n",
       "      <th>1</th>\n",
       "      <td>0.007164</td>\n",
       "      <td>0.005585</td>\n",
       "      <td>0.003313</td>\n",
       "      <td>0.005887</td>\n",
       "      <td>True</td>\n",
       "      <td>3</td>\n",
       "      <td>{'LinearRegression__fit_intercept': True, 'Pol...</td>\n",
       "      <td>-0.827129</td>\n",
       "      <td>-0.124151</td>\n",
       "      <td>-0.145622</td>\n",
       "      <td>-0.122261</td>\n",
       "      <td>-0.134401</td>\n",
       "      <td>-0.270713</td>\n",
       "      <td>0.278333</td>\n",
       "      <td>6</td>\n",
       "    </tr>\n",
       "    <tr>\n",
       "      <th>7</th>\n",
       "      <td>0.003126</td>\n",
       "      <td>0.006251</td>\n",
       "      <td>0.003125</td>\n",
       "      <td>0.006250</td>\n",
       "      <td>False</td>\n",
       "      <td>3</td>\n",
       "      <td>{'LinearRegression__fit_intercept': False, 'Po...</td>\n",
       "      <td>-0.827129</td>\n",
       "      <td>-0.124151</td>\n",
       "      <td>-0.145622</td>\n",
       "      <td>-0.122261</td>\n",
       "      <td>-0.134401</td>\n",
       "      <td>-0.270713</td>\n",
       "      <td>0.278333</td>\n",
       "      <td>7</td>\n",
       "    </tr>\n",
       "    <tr>\n",
       "      <th>7</th>\n",
       "      <td>0.004686</td>\n",
       "      <td>0.007310</td>\n",
       "      <td>0.002314</td>\n",
       "      <td>0.004628</td>\n",
       "      <td>False</td>\n",
       "      <td>3</td>\n",
       "      <td>{'LinearRegression__fit_intercept': False, 'Po...</td>\n",
       "      <td>-0.779523</td>\n",
       "      <td>-0.662875</td>\n",
       "      <td>-0.126662</td>\n",
       "      <td>-0.166336</td>\n",
       "      <td>-0.197063</td>\n",
       "      <td>-0.386492</td>\n",
       "      <td>0.276668</td>\n",
       "      <td>1</td>\n",
       "    </tr>\n",
       "    <tr>\n",
       "      <th>1</th>\n",
       "      <td>0.008185</td>\n",
       "      <td>0.004588</td>\n",
       "      <td>0.005390</td>\n",
       "      <td>0.003412</td>\n",
       "      <td>True</td>\n",
       "      <td>3</td>\n",
       "      <td>{'LinearRegression__fit_intercept': True, 'Pol...</td>\n",
       "      <td>-0.779523</td>\n",
       "      <td>-0.662875</td>\n",
       "      <td>-0.126662</td>\n",
       "      <td>-0.166336</td>\n",
       "      <td>-0.197063</td>\n",
       "      <td>-0.386492</td>\n",
       "      <td>0.276668</td>\n",
       "      <td>2</td>\n",
       "    </tr>\n",
       "    <tr>\n",
       "      <th>8</th>\n",
       "      <td>0.007947</td>\n",
       "      <td>0.007245</td>\n",
       "      <td>0.000000</td>\n",
       "      <td>0.000000</td>\n",
       "      <td>False</td>\n",
       "      <td>4</td>\n",
       "      <td>{'LinearRegression__fit_intercept': False, 'Po...</td>\n",
       "      <td>-0.656132</td>\n",
       "      <td>-0.608026</td>\n",
       "      <td>-0.204625</td>\n",
       "      <td>-0.214348</td>\n",
       "      <td>-0.279519</td>\n",
       "      <td>-0.392530</td>\n",
       "      <td>0.197865</td>\n",
       "      <td>3</td>\n",
       "    </tr>\n",
       "    <tr>\n",
       "      <th>0</th>\n",
       "      <td>0.009202</td>\n",
       "      <td>0.002804</td>\n",
       "      <td>0.002658</td>\n",
       "      <td>0.001570</td>\n",
       "      <td>True</td>\n",
       "      <td>2</td>\n",
       "      <td>{'LinearRegression__fit_intercept': True, 'Pol...</td>\n",
       "      <td>-1.100718</td>\n",
       "      <td>-0.207837</td>\n",
       "      <td>-0.315704</td>\n",
       "      <td>-0.193970</td>\n",
       "      <td>-0.286509</td>\n",
       "      <td>-0.420948</td>\n",
       "      <td>0.342979</td>\n",
       "      <td>4</td>\n",
       "    </tr>\n",
       "    <tr>\n",
       "      <th>6</th>\n",
       "      <td>0.003535</td>\n",
       "      <td>0.005624</td>\n",
       "      <td>0.002771</td>\n",
       "      <td>0.005541</td>\n",
       "      <td>False</td>\n",
       "      <td>2</td>\n",
       "      <td>{'LinearRegression__fit_intercept': False, 'Po...</td>\n",
       "      <td>-1.100718</td>\n",
       "      <td>-0.207837</td>\n",
       "      <td>-0.315704</td>\n",
       "      <td>-0.193970</td>\n",
       "      <td>-0.286509</td>\n",
       "      <td>-0.420948</td>\n",
       "      <td>0.342979</td>\n",
       "      <td>5</td>\n",
       "    </tr>\n",
       "    <tr>\n",
       "      <th>9</th>\n",
       "      <td>0.014245</td>\n",
       "      <td>0.003947</td>\n",
       "      <td>0.000696</td>\n",
       "      <td>0.001391</td>\n",
       "      <td>False</td>\n",
       "      <td>5</td>\n",
       "      <td>{'LinearRegression__fit_intercept': False, 'Po...</td>\n",
       "      <td>-0.307708</td>\n",
       "      <td>-3.524462</td>\n",
       "      <td>-0.122986</td>\n",
       "      <td>-0.223158</td>\n",
       "      <td>-0.213656</td>\n",
       "      <td>-0.878394</td>\n",
       "      <td>1.324327</td>\n",
       "      <td>6</td>\n",
       "    </tr>\n",
       "    <tr>\n",
       "      <th>2</th>\n",
       "      <td>0.011293</td>\n",
       "      <td>0.007498</td>\n",
       "      <td>0.005857</td>\n",
       "      <td>0.006223</td>\n",
       "      <td>True</td>\n",
       "      <td>4</td>\n",
       "      <td>{'LinearRegression__fit_intercept': True, 'Pol...</td>\n",
       "      <td>-0.650619</td>\n",
       "      <td>-56.244333</td>\n",
       "      <td>-0.204625</td>\n",
       "      <td>-0.214348</td>\n",
       "      <td>-0.279519</td>\n",
       "      <td>-11.518689</td>\n",
       "      <td>22.363422</td>\n",
       "      <td>7</td>\n",
       "    </tr>\n",
       "  </tbody>\n",
       "</table>\n",
       "</div>"
      ],
      "text/plain": [
       "    mean_fit_time  std_fit_time  mean_score_time  std_score_time  \\\n",
       "10       0.007565      0.007006         0.003125        0.006249   \n",
       "8        0.006237      0.007639         0.000000        0.000000   \n",
       "2        0.002947      0.005893         0.003500        0.006999   \n",
       "9        0.003092      0.006185         0.003164        0.006327   \n",
       "3        0.006219      0.006492         0.003562        0.006112   \n",
       "1        0.007164      0.005585         0.003313        0.005887   \n",
       "7        0.003126      0.006251         0.003125        0.006250   \n",
       "7        0.004686      0.007310         0.002314        0.004628   \n",
       "1        0.008185      0.004588         0.005390        0.003412   \n",
       "8        0.007947      0.007245         0.000000        0.000000   \n",
       "0        0.009202      0.002804         0.002658        0.001570   \n",
       "6        0.003535      0.005624         0.002771        0.005541   \n",
       "9        0.014245      0.003947         0.000696        0.001391   \n",
       "2        0.011293      0.007498         0.005857        0.006223   \n",
       "\n",
       "   param_LinearRegression__fit_intercept param_PolynomialFeatures__degree  \\\n",
       "10                                 False                                6   \n",
       "8                                  False                                4   \n",
       "2                                   True                                4   \n",
       "9                                  False                                5   \n",
       "3                                   True                                5   \n",
       "1                                   True                                3   \n",
       "7                                  False                                3   \n",
       "7                                  False                                3   \n",
       "1                                   True                                3   \n",
       "8                                  False                                4   \n",
       "0                                   True                                2   \n",
       "6                                  False                                2   \n",
       "9                                  False                                5   \n",
       "2                                   True                                4   \n",
       "\n",
       "                                               params  split0_test_score  \\\n",
       "10  {'LinearRegression__fit_intercept': False, 'Po...          -0.545429   \n",
       "8   {'LinearRegression__fit_intercept': False, 'Po...          -0.676758   \n",
       "2   {'LinearRegression__fit_intercept': True, 'Pol...          -0.676758   \n",
       "9   {'LinearRegression__fit_intercept': False, 'Po...          -0.624860   \n",
       "3   {'LinearRegression__fit_intercept': True, 'Pol...          -0.624860   \n",
       "1   {'LinearRegression__fit_intercept': True, 'Pol...          -0.827129   \n",
       "7   {'LinearRegression__fit_intercept': False, 'Po...          -0.827129   \n",
       "7   {'LinearRegression__fit_intercept': False, 'Po...          -0.779523   \n",
       "1   {'LinearRegression__fit_intercept': True, 'Pol...          -0.779523   \n",
       "8   {'LinearRegression__fit_intercept': False, 'Po...          -0.656132   \n",
       "0   {'LinearRegression__fit_intercept': True, 'Pol...          -1.100718   \n",
       "6   {'LinearRegression__fit_intercept': False, 'Po...          -1.100718   \n",
       "9   {'LinearRegression__fit_intercept': False, 'Po...          -0.307708   \n",
       "2   {'LinearRegression__fit_intercept': True, 'Pol...          -0.650619   \n",
       "\n",
       "    split1_test_score  split2_test_score  split3_test_score  \\\n",
       "10          -0.090906          -0.130978          -0.126439   \n",
       "8           -0.153785          -0.147109          -0.104928   \n",
       "2           -0.153785          -0.147109          -0.104928   \n",
       "9           -0.107698          -0.153466          -0.111772   \n",
       "3           -0.107698          -0.153466          -0.111772   \n",
       "1           -0.124151          -0.145622          -0.122261   \n",
       "7           -0.124151          -0.145622          -0.122261   \n",
       "7           -0.662875          -0.126662          -0.166336   \n",
       "1           -0.662875          -0.126662          -0.166336   \n",
       "8           -0.608026          -0.204625          -0.214348   \n",
       "0           -0.207837          -0.315704          -0.193970   \n",
       "6           -0.207837          -0.315704          -0.193970   \n",
       "9           -3.524462          -0.122986          -0.223158   \n",
       "2          -56.244333          -0.204625          -0.214348   \n",
       "\n",
       "    split4_test_score  mean_test_score  std_test_score  rank_test_score  \n",
       "10          -0.197246        -0.218200        0.167182                1  \n",
       "8           -0.139138        -0.244343        0.216860                2  \n",
       "2           -0.139138        -0.244343        0.216860                3  \n",
       "9           -0.225247        -0.244609        0.194763                4  \n",
       "3           -0.225247        -0.244609        0.194763                5  \n",
       "1           -0.134401        -0.270713        0.278333                6  \n",
       "7           -0.134401        -0.270713        0.278333                7  \n",
       "7           -0.197063        -0.386492        0.276668                1  \n",
       "1           -0.197063        -0.386492        0.276668                2  \n",
       "8           -0.279519        -0.392530        0.197865                3  \n",
       "0           -0.286509        -0.420948        0.342979                4  \n",
       "6           -0.286509        -0.420948        0.342979                5  \n",
       "9           -0.213656        -0.878394        1.324327                6  \n",
       "2           -0.279519       -11.518689       22.363422                7  "
      ]
     },
     "execution_count": 220,
     "metadata": {},
     "output_type": "execute_result"
    }
   ],
   "source": [
    "df_gabungan=pd.concat([df_1.head(7),df_2.head(7)])\n",
    "df_gabungan.drop_duplicates(subset=['mean_test_score', 'std_test_score'], inplace=True)\n",
    "df_gabungan.sort_values(by=['mean_test_score', 'std_test_score'], ascending=[False, True])"
   ]
  },
  {
   "cell_type": "markdown",
   "id": "5a79e529",
   "metadata": {},
   "source": [
    "# ambil data paremeterterbaik"
   ]
  },
  {
   "cell_type": "code",
   "execution_count": 221,
   "id": "88e132fa",
   "metadata": {},
   "outputs": [
    {
     "data": {
      "text/plain": [
       "array([{'LinearRegression__fit_intercept': [False], 'PolynomialFeatures__degree': [6]},\n",
       "       {'LinearRegression__fit_intercept': [False], 'PolynomialFeatures__degree': [4]},\n",
       "       {'LinearRegression__fit_intercept': [True], 'PolynomialFeatures__degree': [4]},\n",
       "       {'LinearRegression__fit_intercept': [False], 'PolynomialFeatures__degree': [5]},\n",
       "       {'LinearRegression__fit_intercept': [True], 'PolynomialFeatures__degree': [5]}],\n",
       "      dtype=object)"
      ]
     },
     "execution_count": 221,
     "metadata": {},
     "output_type": "execute_result"
    }
   ],
   "source": [
    "def ambil_best(grid_search,n):\n",
    "    cv_r=grid_search.copy()\n",
    "    cv_r_v=cv_r.sort_values(by=['mean_test_score', 'std_test_score'], ascending=[False, True])\n",
    "    cv_r_v=cv_r_v.head(n)['params'].values\n",
    "\n",
    "    for wi in range(len(cv_r_v)):\n",
    "\n",
    "        for i in list(cv_r_v[wi]):\n",
    "\n",
    "            cv_r_v[wi][i]=[cv_r_v[wi][i]]\n",
    "\n",
    "\n",
    "    return cv_r_v\n",
    "inis=ambil_best(df_gabungan,5)\n",
    "inis"
   ]
  },
  {
   "cell_type": "markdown",
   "id": "c711616b",
   "metadata": {},
   "source": [
    "# buat experiment"
   ]
  },
  {
   "cell_type": "code",
   "execution_count": 222,
   "id": "dc52a08b",
   "metadata": {},
   "outputs": [
    {
     "name": "stdout",
     "output_type": "stream",
     "text": [
      "675159362592057773\n",
      "run_id: 445d792497f04f64af652889801d630d\n",
      "run_id: a46027623bcf4d018aec2b659c25610f\n",
      "run_id: c937e595063f47d6beafff1a964bfccf\n",
      "run_id: f37e19b2b5df4a0cbc9965b0d7d65c34\n",
      "run_id: 9a86738546b04512a5d48bb50a6b0363\n",
      "selesai\n"
     ]
    }
   ],
   "source": [
    "if __name__ == \"__main__\":\n",
    "\n",
    "    experiment_id = mlflow.create_experiment(\n",
    "        name=\"project_poly_new\",\n",
    "        tags={\"env\": \"dev\", \"version\": \"1.0.0\"},\n",
    "    )\n",
    "\n",
    "    print(experiment_id)\n",
    "    \n",
    "run_name = \"log___\"\n",
    "increment_number = 1\n",
    "mlflow.end_run()\n",
    "\n",
    "increment_number=input_mlflow(inis,increment_number,X_train, y_train,pipeline,run_name,experiment_id)"
   ]
  },
  {
   "cell_type": "markdown",
   "id": "344c6be1",
   "metadata": {},
   "source": [
    "# **make voting**"
   ]
  },
  {
   "cell_type": "code",
   "execution_count": 223,
   "id": "3941de44",
   "metadata": {},
   "outputs": [],
   "source": [
    "model1 = mlflow.sklearn.load_model('mlruns/675159362592057773/445d792497f04f64af652889801d630d/artifacts/grid_search__1')\n",
    "model2 = mlflow.sklearn.load_model('mlruns/675159362592057773/a46027623bcf4d018aec2b659c25610f/artifacts/grid_search__2')"
   ]
  },
  {
   "cell_type": "code",
   "execution_count": 224,
   "id": "c28eb727",
   "metadata": {},
   "outputs": [],
   "source": [
    "from sklearn.ensemble import VotingRegressor\n",
    "\n",
    "voting_pipe = Pipeline([\n",
    "    ('voting', VotingRegressor(estimators=[\n",
    "        ('grid_search1', model1.best_estimator_),\n",
    "         # Model terbaik dari grid search pertama\n",
    "        ('grid_search2',model2.best_estimator_)   # Model terbaik dari grid search kedua\n",
    "    ]))\n",
    "])\n"
   ]
  },
  {
   "cell_type": "code",
   "execution_count": 225,
   "id": "70f44b59",
   "metadata": {},
   "outputs": [
    {
     "data": {
      "text/html": [
       "<style>#sk-23a64085-7305-42ff-993e-da55703e677d {color: black;background-color: white;}#sk-23a64085-7305-42ff-993e-da55703e677d pre{padding: 0;}#sk-23a64085-7305-42ff-993e-da55703e677d div.sk-toggleable {background-color: white;}#sk-23a64085-7305-42ff-993e-da55703e677d label.sk-toggleable__label {cursor: pointer;display: block;width: 100%;margin-bottom: 0;padding: 0.3em;box-sizing: border-box;text-align: center;}#sk-23a64085-7305-42ff-993e-da55703e677d label.sk-toggleable__label-arrow:before {content: \"▸\";float: left;margin-right: 0.25em;color: #696969;}#sk-23a64085-7305-42ff-993e-da55703e677d label.sk-toggleable__label-arrow:hover:before {color: black;}#sk-23a64085-7305-42ff-993e-da55703e677d div.sk-estimator:hover label.sk-toggleable__label-arrow:before {color: black;}#sk-23a64085-7305-42ff-993e-da55703e677d div.sk-toggleable__content {max-height: 0;max-width: 0;overflow: hidden;text-align: left;background-color: #f0f8ff;}#sk-23a64085-7305-42ff-993e-da55703e677d div.sk-toggleable__content pre {margin: 0.2em;color: black;border-radius: 0.25em;background-color: #f0f8ff;}#sk-23a64085-7305-42ff-993e-da55703e677d input.sk-toggleable__control:checked~div.sk-toggleable__content {max-height: 200px;max-width: 100%;overflow: auto;}#sk-23a64085-7305-42ff-993e-da55703e677d input.sk-toggleable__control:checked~label.sk-toggleable__label-arrow:before {content: \"▾\";}#sk-23a64085-7305-42ff-993e-da55703e677d div.sk-estimator input.sk-toggleable__control:checked~label.sk-toggleable__label {background-color: #d4ebff;}#sk-23a64085-7305-42ff-993e-da55703e677d div.sk-label input.sk-toggleable__control:checked~label.sk-toggleable__label {background-color: #d4ebff;}#sk-23a64085-7305-42ff-993e-da55703e677d input.sk-hidden--visually {border: 0;clip: rect(1px 1px 1px 1px);clip: rect(1px, 1px, 1px, 1px);height: 1px;margin: -1px;overflow: hidden;padding: 0;position: absolute;width: 1px;}#sk-23a64085-7305-42ff-993e-da55703e677d div.sk-estimator {font-family: monospace;background-color: #f0f8ff;border: 1px dotted black;border-radius: 0.25em;box-sizing: border-box;margin-bottom: 0.5em;}#sk-23a64085-7305-42ff-993e-da55703e677d div.sk-estimator:hover {background-color: #d4ebff;}#sk-23a64085-7305-42ff-993e-da55703e677d div.sk-parallel-item::after {content: \"\";width: 100%;border-bottom: 1px solid gray;flex-grow: 1;}#sk-23a64085-7305-42ff-993e-da55703e677d div.sk-label:hover label.sk-toggleable__label {background-color: #d4ebff;}#sk-23a64085-7305-42ff-993e-da55703e677d div.sk-serial::before {content: \"\";position: absolute;border-left: 1px solid gray;box-sizing: border-box;top: 2em;bottom: 0;left: 50%;}#sk-23a64085-7305-42ff-993e-da55703e677d div.sk-serial {display: flex;flex-direction: column;align-items: center;background-color: white;padding-right: 0.2em;padding-left: 0.2em;}#sk-23a64085-7305-42ff-993e-da55703e677d div.sk-item {z-index: 1;}#sk-23a64085-7305-42ff-993e-da55703e677d div.sk-parallel {display: flex;align-items: stretch;justify-content: center;background-color: white;}#sk-23a64085-7305-42ff-993e-da55703e677d div.sk-parallel::before {content: \"\";position: absolute;border-left: 1px solid gray;box-sizing: border-box;top: 2em;bottom: 0;left: 50%;}#sk-23a64085-7305-42ff-993e-da55703e677d div.sk-parallel-item {display: flex;flex-direction: column;position: relative;background-color: white;}#sk-23a64085-7305-42ff-993e-da55703e677d div.sk-parallel-item:first-child::after {align-self: flex-end;width: 50%;}#sk-23a64085-7305-42ff-993e-da55703e677d div.sk-parallel-item:last-child::after {align-self: flex-start;width: 50%;}#sk-23a64085-7305-42ff-993e-da55703e677d div.sk-parallel-item:only-child::after {width: 0;}#sk-23a64085-7305-42ff-993e-da55703e677d div.sk-dashed-wrapped {border: 1px dashed gray;margin: 0 0.4em 0.5em 0.4em;box-sizing: border-box;padding-bottom: 0.4em;background-color: white;position: relative;}#sk-23a64085-7305-42ff-993e-da55703e677d div.sk-label label {font-family: monospace;font-weight: bold;background-color: white;display: inline-block;line-height: 1.2em;}#sk-23a64085-7305-42ff-993e-da55703e677d div.sk-label-container {position: relative;z-index: 2;text-align: center;}#sk-23a64085-7305-42ff-993e-da55703e677d div.sk-container {/* jupyter's `normalize.less` sets `[hidden] { display: none; }` but bootstrap.min.css set `[hidden] { display: none !important; }` so we also need the `!important` here to be able to override the default hidden behavior on the sphinx rendered scikit-learn.org. See: https://github.com/scikit-learn/scikit-learn/issues/21755 */display: inline-block !important;position: relative;}#sk-23a64085-7305-42ff-993e-da55703e677d div.sk-text-repr-fallback {display: none;}</style><div id=\"sk-23a64085-7305-42ff-993e-da55703e677d\" class=\"sk-top-container\"><div class=\"sk-text-repr-fallback\"><pre>Pipeline(steps=[(&#x27;voting&#x27;,\n",
       "                 VotingRegressor(estimators=[(&#x27;grid_search1&#x27;,\n",
       "                                              Pipeline(steps=[(&#x27;StandardScaler&#x27;,\n",
       "                                                               StandardScaler()),\n",
       "                                                              (&#x27;PolynomialFeatures&#x27;,\n",
       "                                                               PolynomialFeatures(degree=6)),\n",
       "                                                              (&#x27;LinearRegression&#x27;,\n",
       "                                                               LinearRegression(fit_intercept=False))])),\n",
       "                                             (&#x27;grid_search2&#x27;,\n",
       "                                              Pipeline(steps=[(&#x27;StandardScaler&#x27;,\n",
       "                                                               StandardScaler()),\n",
       "                                                              (&#x27;PolynomialFeatures&#x27;,\n",
       "                                                               PolynomialFeatures(degree=4)),\n",
       "                                                              (&#x27;LinearRegression&#x27;,\n",
       "                                                               LinearRegression(fit_intercept=False))]))]))])</pre><b>Please rerun this cell to show the HTML repr or trust the notebook.</b></div><div class=\"sk-container\" hidden><div class=\"sk-item sk-dashed-wrapped\"><div class=\"sk-label-container\"><div class=\"sk-label sk-toggleable\"><input class=\"sk-toggleable__control sk-hidden--visually\" id=\"528781d4-6e5d-4184-bf96-a7d57e26c921\" type=\"checkbox\" ><label for=\"528781d4-6e5d-4184-bf96-a7d57e26c921\" class=\"sk-toggleable__label sk-toggleable__label-arrow\">Pipeline</label><div class=\"sk-toggleable__content\"><pre>Pipeline(steps=[(&#x27;voting&#x27;,\n",
       "                 VotingRegressor(estimators=[(&#x27;grid_search1&#x27;,\n",
       "                                              Pipeline(steps=[(&#x27;StandardScaler&#x27;,\n",
       "                                                               StandardScaler()),\n",
       "                                                              (&#x27;PolynomialFeatures&#x27;,\n",
       "                                                               PolynomialFeatures(degree=6)),\n",
       "                                                              (&#x27;LinearRegression&#x27;,\n",
       "                                                               LinearRegression(fit_intercept=False))])),\n",
       "                                             (&#x27;grid_search2&#x27;,\n",
       "                                              Pipeline(steps=[(&#x27;StandardScaler&#x27;,\n",
       "                                                               StandardScaler()),\n",
       "                                                              (&#x27;PolynomialFeatures&#x27;,\n",
       "                                                               PolynomialFeatures(degree=4)),\n",
       "                                                              (&#x27;LinearRegression&#x27;,\n",
       "                                                               LinearRegression(fit_intercept=False))]))]))])</pre></div></div></div><div class=\"sk-serial\"><div class=\"sk-item sk-dashed-wrapped\"><div class=\"sk-label-container\"><div class=\"sk-label sk-toggleable\"><input class=\"sk-toggleable__control sk-hidden--visually\" id=\"f8333f3f-a012-46e1-9832-f6b349abfd7b\" type=\"checkbox\" ><label for=\"f8333f3f-a012-46e1-9832-f6b349abfd7b\" class=\"sk-toggleable__label sk-toggleable__label-arrow\">voting: VotingRegressor</label><div class=\"sk-toggleable__content\"><pre>VotingRegressor(estimators=[(&#x27;grid_search1&#x27;,\n",
       "                             Pipeline(steps=[(&#x27;StandardScaler&#x27;,\n",
       "                                              StandardScaler()),\n",
       "                                             (&#x27;PolynomialFeatures&#x27;,\n",
       "                                              PolynomialFeatures(degree=6)),\n",
       "                                             (&#x27;LinearRegression&#x27;,\n",
       "                                              LinearRegression(fit_intercept=False))])),\n",
       "                            (&#x27;grid_search2&#x27;,\n",
       "                             Pipeline(steps=[(&#x27;StandardScaler&#x27;,\n",
       "                                              StandardScaler()),\n",
       "                                             (&#x27;PolynomialFeatures&#x27;,\n",
       "                                              PolynomialFeatures(degree=4)),\n",
       "                                             (&#x27;LinearRegression&#x27;,\n",
       "                                              LinearRegression(fit_intercept=False))]))])</pre></div></div></div><div class=\"sk-parallel\"><div class=\"sk-parallel-item\"><div class=\"sk-item\"><div class=\"sk-label-container\"><div class=\"sk-label sk-toggleable\"><label>grid_search1</label></div></div><div class=\"sk-serial\"><div class=\"sk-item\"><div class=\"sk-serial\"><div class=\"sk-item\"><div class=\"sk-estimator sk-toggleable\"><input class=\"sk-toggleable__control sk-hidden--visually\" id=\"c8c49f0a-b358-4337-b844-a94aefbac0a4\" type=\"checkbox\" ><label for=\"c8c49f0a-b358-4337-b844-a94aefbac0a4\" class=\"sk-toggleable__label sk-toggleable__label-arrow\">StandardScaler</label><div class=\"sk-toggleable__content\"><pre>StandardScaler()</pre></div></div></div><div class=\"sk-item\"><div class=\"sk-estimator sk-toggleable\"><input class=\"sk-toggleable__control sk-hidden--visually\" id=\"910e6deb-98eb-4334-9c06-eec9f622479d\" type=\"checkbox\" ><label for=\"910e6deb-98eb-4334-9c06-eec9f622479d\" class=\"sk-toggleable__label sk-toggleable__label-arrow\">PolynomialFeatures</label><div class=\"sk-toggleable__content\"><pre>PolynomialFeatures(degree=6)</pre></div></div></div><div class=\"sk-item\"><div class=\"sk-estimator sk-toggleable\"><input class=\"sk-toggleable__control sk-hidden--visually\" id=\"b0da91e8-ec75-43bd-bf65-2ad81e48b146\" type=\"checkbox\" ><label for=\"b0da91e8-ec75-43bd-bf65-2ad81e48b146\" class=\"sk-toggleable__label sk-toggleable__label-arrow\">LinearRegression</label><div class=\"sk-toggleable__content\"><pre>LinearRegression(fit_intercept=False)</pre></div></div></div></div></div></div></div></div><div class=\"sk-parallel-item\"><div class=\"sk-item\"><div class=\"sk-label-container\"><div class=\"sk-label sk-toggleable\"><label>grid_search2</label></div></div><div class=\"sk-serial\"><div class=\"sk-item\"><div class=\"sk-serial\"><div class=\"sk-item\"><div class=\"sk-estimator sk-toggleable\"><input class=\"sk-toggleable__control sk-hidden--visually\" id=\"89c4789d-5686-4708-a3e2-4c7db884d5fa\" type=\"checkbox\" ><label for=\"89c4789d-5686-4708-a3e2-4c7db884d5fa\" class=\"sk-toggleable__label sk-toggleable__label-arrow\">StandardScaler</label><div class=\"sk-toggleable__content\"><pre>StandardScaler()</pre></div></div></div><div class=\"sk-item\"><div class=\"sk-estimator sk-toggleable\"><input class=\"sk-toggleable__control sk-hidden--visually\" id=\"3aeed256-d9b6-46af-8908-f69dd1b718e6\" type=\"checkbox\" ><label for=\"3aeed256-d9b6-46af-8908-f69dd1b718e6\" class=\"sk-toggleable__label sk-toggleable__label-arrow\">PolynomialFeatures</label><div class=\"sk-toggleable__content\"><pre>PolynomialFeatures(degree=4)</pre></div></div></div><div class=\"sk-item\"><div class=\"sk-estimator sk-toggleable\"><input class=\"sk-toggleable__control sk-hidden--visually\" id=\"9aabbfe1-f10d-46c6-bea1-992014d25c9e\" type=\"checkbox\" ><label for=\"9aabbfe1-f10d-46c6-bea1-992014d25c9e\" class=\"sk-toggleable__label sk-toggleable__label-arrow\">LinearRegression</label><div class=\"sk-toggleable__content\"><pre>LinearRegression(fit_intercept=False)</pre></div></div></div></div></div></div></div></div></div></div></div></div></div></div>"
      ],
      "text/plain": [
       "Pipeline(steps=[('voting',\n",
       "                 VotingRegressor(estimators=[('grid_search1',\n",
       "                                              Pipeline(steps=[('StandardScaler',\n",
       "                                                               StandardScaler()),\n",
       "                                                              ('PolynomialFeatures',\n",
       "                                                               PolynomialFeatures(degree=6)),\n",
       "                                                              ('LinearRegression',\n",
       "                                                               LinearRegression(fit_intercept=False))])),\n",
       "                                             ('grid_search2',\n",
       "                                              Pipeline(steps=[('StandardScaler',\n",
       "                                                               StandardScaler()),\n",
       "                                                              ('PolynomialFeatures',\n",
       "                                                               PolynomialFeatures(degree=4)),\n",
       "                                                              ('LinearRegression',\n",
       "                                                               LinearRegression(fit_intercept=False))]))]))])"
      ]
     },
     "execution_count": 225,
     "metadata": {},
     "output_type": "execute_result"
    }
   ],
   "source": [
    "voting_pipe.fit(X_train,y_train)\n"
   ]
  },
  {
   "cell_type": "code",
   "execution_count": 226,
   "id": "bfe61ea4",
   "metadata": {},
   "outputs": [],
   "source": [
    "mod1=model1.predict(X_test)\n",
    "mod2=model2.predict(X_test)\n",
    "vote=voting_pipe.predict(X_test)"
   ]
  },
  {
   "cell_type": "code",
   "execution_count": 227,
   "id": "3a3a34ab",
   "metadata": {},
   "outputs": [],
   "source": [
    "y_test=y_test.reset_index(drop=True)"
   ]
  },
  {
   "cell_type": "code",
   "execution_count": 228,
   "id": "426fedf0",
   "metadata": {},
   "outputs": [
    {
     "data": {
      "text/html": [
       "<div>\n",
       "<style scoped>\n",
       "    .dataframe tbody tr th:only-of-type {\n",
       "        vertical-align: middle;\n",
       "    }\n",
       "\n",
       "    .dataframe tbody tr th {\n",
       "        vertical-align: top;\n",
       "    }\n",
       "\n",
       "    .dataframe thead th {\n",
       "        text-align: right;\n",
       "    }\n",
       "</style>\n",
       "<table border=\"1\" class=\"dataframe\">\n",
       "  <thead>\n",
       "    <tr style=\"text-align: right;\">\n",
       "      <th></th>\n",
       "      <th>Actual</th>\n",
       "      <th>Predicted 1</th>\n",
       "      <th>Predicted 2</th>\n",
       "      <th>vote</th>\n",
       "    </tr>\n",
       "  </thead>\n",
       "  <tbody>\n",
       "    <tr>\n",
       "      <th>0</th>\n",
       "      <td>5.5</td>\n",
       "      <td>5.385011</td>\n",
       "      <td>5.657039</td>\n",
       "      <td>5.521025</td>\n",
       "    </tr>\n",
       "    <tr>\n",
       "      <th>1</th>\n",
       "      <td>8.4</td>\n",
       "      <td>9.034948</td>\n",
       "      <td>8.974578</td>\n",
       "      <td>9.004763</td>\n",
       "    </tr>\n",
       "    <tr>\n",
       "      <th>2</th>\n",
       "      <td>8.7</td>\n",
       "      <td>8.121732</td>\n",
       "      <td>7.845081</td>\n",
       "      <td>7.983407</td>\n",
       "    </tr>\n",
       "    <tr>\n",
       "      <th>3</th>\n",
       "      <td>9.6</td>\n",
       "      <td>9.334687</td>\n",
       "      <td>9.534606</td>\n",
       "      <td>9.434647</td>\n",
       "    </tr>\n",
       "    <tr>\n",
       "      <th>4</th>\n",
       "      <td>10.1</td>\n",
       "      <td>10.397085</td>\n",
       "      <td>9.845846</td>\n",
       "      <td>10.121465</td>\n",
       "    </tr>\n",
       "    <tr>\n",
       "      <th>5</th>\n",
       "      <td>10.1</td>\n",
       "      <td>10.428649</td>\n",
       "      <td>9.907873</td>\n",
       "      <td>10.168261</td>\n",
       "    </tr>\n",
       "    <tr>\n",
       "      <th>6</th>\n",
       "      <td>10.3</td>\n",
       "      <td>10.258620</td>\n",
       "      <td>10.139266</td>\n",
       "      <td>10.198943</td>\n",
       "    </tr>\n",
       "    <tr>\n",
       "      <th>7</th>\n",
       "      <td>10.9</td>\n",
       "      <td>10.807901</td>\n",
       "      <td>10.434358</td>\n",
       "      <td>10.621129</td>\n",
       "    </tr>\n",
       "    <tr>\n",
       "      <th>8</th>\n",
       "      <td>10.9</td>\n",
       "      <td>10.730477</td>\n",
       "      <td>10.839812</td>\n",
       "      <td>10.785144</td>\n",
       "    </tr>\n",
       "    <tr>\n",
       "      <th>9</th>\n",
       "      <td>11.2</td>\n",
       "      <td>10.843322</td>\n",
       "      <td>10.614538</td>\n",
       "      <td>10.728930</td>\n",
       "    </tr>\n",
       "    <tr>\n",
       "      <th>10</th>\n",
       "      <td>12.8</td>\n",
       "      <td>12.121329</td>\n",
       "      <td>12.484915</td>\n",
       "      <td>12.303122</td>\n",
       "    </tr>\n",
       "    <tr>\n",
       "      <th>11</th>\n",
       "      <td>13.4</td>\n",
       "      <td>12.740705</td>\n",
       "      <td>12.529473</td>\n",
       "      <td>12.635089</td>\n",
       "    </tr>\n",
       "    <tr>\n",
       "      <th>12</th>\n",
       "      <td>13.4</td>\n",
       "      <td>13.166758</td>\n",
       "      <td>13.188649</td>\n",
       "      <td>13.177704</td>\n",
       "    </tr>\n",
       "    <tr>\n",
       "      <th>13</th>\n",
       "      <td>14.9</td>\n",
       "      <td>14.779436</td>\n",
       "      <td>14.700243</td>\n",
       "      <td>14.739839</td>\n",
       "    </tr>\n",
       "    <tr>\n",
       "      <th>14</th>\n",
       "      <td>15.0</td>\n",
       "      <td>15.499475</td>\n",
       "      <td>15.477436</td>\n",
       "      <td>15.488455</td>\n",
       "    </tr>\n",
       "    <tr>\n",
       "      <th>15</th>\n",
       "      <td>15.5</td>\n",
       "      <td>14.972682</td>\n",
       "      <td>14.941868</td>\n",
       "      <td>14.957275</td>\n",
       "    </tr>\n",
       "    <tr>\n",
       "      <th>16</th>\n",
       "      <td>15.9</td>\n",
       "      <td>15.930795</td>\n",
       "      <td>16.060995</td>\n",
       "      <td>15.995895</td>\n",
       "    </tr>\n",
       "    <tr>\n",
       "      <th>17</th>\n",
       "      <td>16.6</td>\n",
       "      <td>16.136007</td>\n",
       "      <td>16.226826</td>\n",
       "      <td>16.181417</td>\n",
       "    </tr>\n",
       "    <tr>\n",
       "      <th>18</th>\n",
       "      <td>20.1</td>\n",
       "      <td>19.648905</td>\n",
       "      <td>19.799031</td>\n",
       "      <td>19.723968</td>\n",
       "    </tr>\n",
       "    <tr>\n",
       "      <th>19</th>\n",
       "      <td>23.7</td>\n",
       "      <td>23.282415</td>\n",
       "      <td>23.026892</td>\n",
       "      <td>23.154654</td>\n",
       "    </tr>\n",
       "  </tbody>\n",
       "</table>\n",
       "</div>"
      ],
      "text/plain": [
       "    Actual  Predicted 1  Predicted 2       vote\n",
       "0      5.5     5.385011     5.657039   5.521025\n",
       "1      8.4     9.034948     8.974578   9.004763\n",
       "2      8.7     8.121732     7.845081   7.983407\n",
       "3      9.6     9.334687     9.534606   9.434647\n",
       "4     10.1    10.397085     9.845846  10.121465\n",
       "5     10.1    10.428649     9.907873  10.168261\n",
       "6     10.3    10.258620    10.139266  10.198943\n",
       "7     10.9    10.807901    10.434358  10.621129\n",
       "8     10.9    10.730477    10.839812  10.785144\n",
       "9     11.2    10.843322    10.614538  10.728930\n",
       "10    12.8    12.121329    12.484915  12.303122\n",
       "11    13.4    12.740705    12.529473  12.635089\n",
       "12    13.4    13.166758    13.188649  13.177704\n",
       "13    14.9    14.779436    14.700243  14.739839\n",
       "14    15.0    15.499475    15.477436  15.488455\n",
       "15    15.5    14.972682    14.941868  14.957275\n",
       "16    15.9    15.930795    16.060995  15.995895\n",
       "17    16.6    16.136007    16.226826  16.181417\n",
       "18    20.1    19.648905    19.799031  19.723968\n",
       "19    23.7    23.282415    23.026892  23.154654"
      ]
     },
     "execution_count": 228,
     "metadata": {},
     "output_type": "execute_result"
    }
   ],
   "source": [
    "gabungan=pd.concat([y_test,pd.DataFrame(mod1),pd.DataFrame(mod2),pd.DataFrame(vote)],axis=1)\n",
    "gabungan.columns=(['Actual','Predicted 1','Predicted 2','vote'])\n",
    "gabungan=gabungan.sort_values(['Actual'])\n",
    "gabungan=gabungan.reset_index(drop=True)\n",
    "gabungan"
   ]
  },
  {
   "cell_type": "markdown",
   "id": "f1e2d747",
   "metadata": {},
   "source": [
    "# **plot plotly**"
   ]
  },
  {
   "cell_type": "code",
   "execution_count": 229,
   "id": "c39375b0",
   "metadata": {},
   "outputs": [
    {
     "data": {
      "application/vnd.plotly.v1+json": {
       "config": {
        "plotlyServerURL": "https://plot.ly"
       },
       "data": [
        {
         "line": {
          "color": "red"
         },
         "mode": "lines",
         "name": "Actual",
         "type": "scatter",
         "x": [
          0,
          1,
          2,
          3,
          4,
          5,
          6,
          7,
          8,
          9,
          10,
          11,
          12,
          13,
          14,
          15,
          16,
          17,
          18,
          19
         ],
         "y": [
          5.5,
          8.4,
          8.7,
          9.6,
          10.1,
          10.1,
          10.3,
          10.9,
          10.9,
          11.2,
          12.8,
          13.4,
          13.4,
          14.9,
          15,
          15.5,
          15.9,
          16.6,
          20.1,
          23.7
         ]
        },
        {
         "line": {
          "color": "blue"
         },
         "mode": "lines",
         "name": "Predicted 1",
         "type": "scatter",
         "x": [
          0,
          1,
          2,
          3,
          4,
          5,
          6,
          7,
          8,
          9,
          10,
          11,
          12,
          13,
          14,
          15,
          16,
          17,
          18,
          19
         ],
         "y": [
          5.385010722578258,
          9.034947818296168,
          8.121732298517383,
          9.334687444468376,
          10.397084626501604,
          10.428649368380276,
          10.258619786430685,
          10.807900873795568,
          10.730476786733986,
          10.843322167923418,
          12.121328829174733,
          12.740704827622963,
          13.16675834376345,
          14.779435829943203,
          15.499474537432551,
          14.972681607676979,
          15.93079455484534,
          16.13600741986157,
          19.648904855918882,
          23.282414784260034
         ]
        },
        {
         "line": {
          "color": "yellow"
         },
         "mode": "lines",
         "name": "Predicted 2",
         "type": "scatter",
         "x": [
          0,
          1,
          2,
          3,
          4,
          5,
          6,
          7,
          8,
          9,
          10,
          11,
          12,
          13,
          14,
          15,
          16,
          17,
          18,
          19
         ],
         "y": [
          5.657039017256923,
          8.974578059186472,
          7.845080868246077,
          9.534606298741291,
          9.84584574401598,
          9.907873080573955,
          10.139265599289617,
          10.434358039322035,
          10.839812210721997,
          10.614537745345475,
          12.484914691669312,
          12.529472835485889,
          13.188648750899226,
          14.700242609646534,
          15.477436145068056,
          14.94186753480475,
          16.060994509716593,
          16.226826234932037,
          19.7990305356927,
          23.02689232534769
         ]
        },
        {
         "line": {
          "color": "green"
         },
         "mode": "lines",
         "name": "Vote",
         "type": "scatter",
         "x": [
          0,
          1,
          2,
          3,
          4,
          5,
          6,
          7,
          8,
          9,
          10,
          11,
          12,
          13,
          14,
          15,
          16,
          17,
          18,
          19
         ],
         "y": [
          5.521024869917591,
          9.004762938741319,
          7.98340658338173,
          9.434646871604834,
          10.121465185258792,
          10.168261224477115,
          10.19894269286015,
          10.621129456558801,
          10.785144498727991,
          10.728929956634445,
          12.303121760422023,
          12.635088831554427,
          13.177703547331337,
          14.739839219794868,
          15.488455341250305,
          14.957274571240864,
          15.995894532280968,
          16.181416827396802,
          19.72396769580579,
          23.15465355480386
         ]
        }
       ],
       "layout": {
        "template": {
         "data": {
          "bar": [
           {
            "error_x": {
             "color": "#2a3f5f"
            },
            "error_y": {
             "color": "#2a3f5f"
            },
            "marker": {
             "line": {
              "color": "#E5ECF6",
              "width": 0.5
             },
             "pattern": {
              "fillmode": "overlay",
              "size": 10,
              "solidity": 0.2
             }
            },
            "type": "bar"
           }
          ],
          "barpolar": [
           {
            "marker": {
             "line": {
              "color": "#E5ECF6",
              "width": 0.5
             },
             "pattern": {
              "fillmode": "overlay",
              "size": 10,
              "solidity": 0.2
             }
            },
            "type": "barpolar"
           }
          ],
          "carpet": [
           {
            "aaxis": {
             "endlinecolor": "#2a3f5f",
             "gridcolor": "white",
             "linecolor": "white",
             "minorgridcolor": "white",
             "startlinecolor": "#2a3f5f"
            },
            "baxis": {
             "endlinecolor": "#2a3f5f",
             "gridcolor": "white",
             "linecolor": "white",
             "minorgridcolor": "white",
             "startlinecolor": "#2a3f5f"
            },
            "type": "carpet"
           }
          ],
          "choropleth": [
           {
            "colorbar": {
             "outlinewidth": 0,
             "ticks": ""
            },
            "type": "choropleth"
           }
          ],
          "contour": [
           {
            "colorbar": {
             "outlinewidth": 0,
             "ticks": ""
            },
            "colorscale": [
             [
              0,
              "#0d0887"
             ],
             [
              0.1111111111111111,
              "#46039f"
             ],
             [
              0.2222222222222222,
              "#7201a8"
             ],
             [
              0.3333333333333333,
              "#9c179e"
             ],
             [
              0.4444444444444444,
              "#bd3786"
             ],
             [
              0.5555555555555556,
              "#d8576b"
             ],
             [
              0.6666666666666666,
              "#ed7953"
             ],
             [
              0.7777777777777778,
              "#fb9f3a"
             ],
             [
              0.8888888888888888,
              "#fdca26"
             ],
             [
              1,
              "#f0f921"
             ]
            ],
            "type": "contour"
           }
          ],
          "contourcarpet": [
           {
            "colorbar": {
             "outlinewidth": 0,
             "ticks": ""
            },
            "type": "contourcarpet"
           }
          ],
          "heatmap": [
           {
            "colorbar": {
             "outlinewidth": 0,
             "ticks": ""
            },
            "colorscale": [
             [
              0,
              "#0d0887"
             ],
             [
              0.1111111111111111,
              "#46039f"
             ],
             [
              0.2222222222222222,
              "#7201a8"
             ],
             [
              0.3333333333333333,
              "#9c179e"
             ],
             [
              0.4444444444444444,
              "#bd3786"
             ],
             [
              0.5555555555555556,
              "#d8576b"
             ],
             [
              0.6666666666666666,
              "#ed7953"
             ],
             [
              0.7777777777777778,
              "#fb9f3a"
             ],
             [
              0.8888888888888888,
              "#fdca26"
             ],
             [
              1,
              "#f0f921"
             ]
            ],
            "type": "heatmap"
           }
          ],
          "heatmapgl": [
           {
            "colorbar": {
             "outlinewidth": 0,
             "ticks": ""
            },
            "colorscale": [
             [
              0,
              "#0d0887"
             ],
             [
              0.1111111111111111,
              "#46039f"
             ],
             [
              0.2222222222222222,
              "#7201a8"
             ],
             [
              0.3333333333333333,
              "#9c179e"
             ],
             [
              0.4444444444444444,
              "#bd3786"
             ],
             [
              0.5555555555555556,
              "#d8576b"
             ],
             [
              0.6666666666666666,
              "#ed7953"
             ],
             [
              0.7777777777777778,
              "#fb9f3a"
             ],
             [
              0.8888888888888888,
              "#fdca26"
             ],
             [
              1,
              "#f0f921"
             ]
            ],
            "type": "heatmapgl"
           }
          ],
          "histogram": [
           {
            "marker": {
             "pattern": {
              "fillmode": "overlay",
              "size": 10,
              "solidity": 0.2
             }
            },
            "type": "histogram"
           }
          ],
          "histogram2d": [
           {
            "colorbar": {
             "outlinewidth": 0,
             "ticks": ""
            },
            "colorscale": [
             [
              0,
              "#0d0887"
             ],
             [
              0.1111111111111111,
              "#46039f"
             ],
             [
              0.2222222222222222,
              "#7201a8"
             ],
             [
              0.3333333333333333,
              "#9c179e"
             ],
             [
              0.4444444444444444,
              "#bd3786"
             ],
             [
              0.5555555555555556,
              "#d8576b"
             ],
             [
              0.6666666666666666,
              "#ed7953"
             ],
             [
              0.7777777777777778,
              "#fb9f3a"
             ],
             [
              0.8888888888888888,
              "#fdca26"
             ],
             [
              1,
              "#f0f921"
             ]
            ],
            "type": "histogram2d"
           }
          ],
          "histogram2dcontour": [
           {
            "colorbar": {
             "outlinewidth": 0,
             "ticks": ""
            },
            "colorscale": [
             [
              0,
              "#0d0887"
             ],
             [
              0.1111111111111111,
              "#46039f"
             ],
             [
              0.2222222222222222,
              "#7201a8"
             ],
             [
              0.3333333333333333,
              "#9c179e"
             ],
             [
              0.4444444444444444,
              "#bd3786"
             ],
             [
              0.5555555555555556,
              "#d8576b"
             ],
             [
              0.6666666666666666,
              "#ed7953"
             ],
             [
              0.7777777777777778,
              "#fb9f3a"
             ],
             [
              0.8888888888888888,
              "#fdca26"
             ],
             [
              1,
              "#f0f921"
             ]
            ],
            "type": "histogram2dcontour"
           }
          ],
          "mesh3d": [
           {
            "colorbar": {
             "outlinewidth": 0,
             "ticks": ""
            },
            "type": "mesh3d"
           }
          ],
          "parcoords": [
           {
            "line": {
             "colorbar": {
              "outlinewidth": 0,
              "ticks": ""
             }
            },
            "type": "parcoords"
           }
          ],
          "pie": [
           {
            "automargin": true,
            "type": "pie"
           }
          ],
          "scatter": [
           {
            "fillpattern": {
             "fillmode": "overlay",
             "size": 10,
             "solidity": 0.2
            },
            "type": "scatter"
           }
          ],
          "scatter3d": [
           {
            "line": {
             "colorbar": {
              "outlinewidth": 0,
              "ticks": ""
             }
            },
            "marker": {
             "colorbar": {
              "outlinewidth": 0,
              "ticks": ""
             }
            },
            "type": "scatter3d"
           }
          ],
          "scattercarpet": [
           {
            "marker": {
             "colorbar": {
              "outlinewidth": 0,
              "ticks": ""
             }
            },
            "type": "scattercarpet"
           }
          ],
          "scattergeo": [
           {
            "marker": {
             "colorbar": {
              "outlinewidth": 0,
              "ticks": ""
             }
            },
            "type": "scattergeo"
           }
          ],
          "scattergl": [
           {
            "marker": {
             "colorbar": {
              "outlinewidth": 0,
              "ticks": ""
             }
            },
            "type": "scattergl"
           }
          ],
          "scattermapbox": [
           {
            "marker": {
             "colorbar": {
              "outlinewidth": 0,
              "ticks": ""
             }
            },
            "type": "scattermapbox"
           }
          ],
          "scatterpolar": [
           {
            "marker": {
             "colorbar": {
              "outlinewidth": 0,
              "ticks": ""
             }
            },
            "type": "scatterpolar"
           }
          ],
          "scatterpolargl": [
           {
            "marker": {
             "colorbar": {
              "outlinewidth": 0,
              "ticks": ""
             }
            },
            "type": "scatterpolargl"
           }
          ],
          "scatterternary": [
           {
            "marker": {
             "colorbar": {
              "outlinewidth": 0,
              "ticks": ""
             }
            },
            "type": "scatterternary"
           }
          ],
          "surface": [
           {
            "colorbar": {
             "outlinewidth": 0,
             "ticks": ""
            },
            "colorscale": [
             [
              0,
              "#0d0887"
             ],
             [
              0.1111111111111111,
              "#46039f"
             ],
             [
              0.2222222222222222,
              "#7201a8"
             ],
             [
              0.3333333333333333,
              "#9c179e"
             ],
             [
              0.4444444444444444,
              "#bd3786"
             ],
             [
              0.5555555555555556,
              "#d8576b"
             ],
             [
              0.6666666666666666,
              "#ed7953"
             ],
             [
              0.7777777777777778,
              "#fb9f3a"
             ],
             [
              0.8888888888888888,
              "#fdca26"
             ],
             [
              1,
              "#f0f921"
             ]
            ],
            "type": "surface"
           }
          ],
          "table": [
           {
            "cells": {
             "fill": {
              "color": "#EBF0F8"
             },
             "line": {
              "color": "white"
             }
            },
            "header": {
             "fill": {
              "color": "#C8D4E3"
             },
             "line": {
              "color": "white"
             }
            },
            "type": "table"
           }
          ]
         },
         "layout": {
          "annotationdefaults": {
           "arrowcolor": "#2a3f5f",
           "arrowhead": 0,
           "arrowwidth": 1
          },
          "autotypenumbers": "strict",
          "coloraxis": {
           "colorbar": {
            "outlinewidth": 0,
            "ticks": ""
           }
          },
          "colorscale": {
           "diverging": [
            [
             0,
             "#8e0152"
            ],
            [
             0.1,
             "#c51b7d"
            ],
            [
             0.2,
             "#de77ae"
            ],
            [
             0.3,
             "#f1b6da"
            ],
            [
             0.4,
             "#fde0ef"
            ],
            [
             0.5,
             "#f7f7f7"
            ],
            [
             0.6,
             "#e6f5d0"
            ],
            [
             0.7,
             "#b8e186"
            ],
            [
             0.8,
             "#7fbc41"
            ],
            [
             0.9,
             "#4d9221"
            ],
            [
             1,
             "#276419"
            ]
           ],
           "sequential": [
            [
             0,
             "#0d0887"
            ],
            [
             0.1111111111111111,
             "#46039f"
            ],
            [
             0.2222222222222222,
             "#7201a8"
            ],
            [
             0.3333333333333333,
             "#9c179e"
            ],
            [
             0.4444444444444444,
             "#bd3786"
            ],
            [
             0.5555555555555556,
             "#d8576b"
            ],
            [
             0.6666666666666666,
             "#ed7953"
            ],
            [
             0.7777777777777778,
             "#fb9f3a"
            ],
            [
             0.8888888888888888,
             "#fdca26"
            ],
            [
             1,
             "#f0f921"
            ]
           ],
           "sequentialminus": [
            [
             0,
             "#0d0887"
            ],
            [
             0.1111111111111111,
             "#46039f"
            ],
            [
             0.2222222222222222,
             "#7201a8"
            ],
            [
             0.3333333333333333,
             "#9c179e"
            ],
            [
             0.4444444444444444,
             "#bd3786"
            ],
            [
             0.5555555555555556,
             "#d8576b"
            ],
            [
             0.6666666666666666,
             "#ed7953"
            ],
            [
             0.7777777777777778,
             "#fb9f3a"
            ],
            [
             0.8888888888888888,
             "#fdca26"
            ],
            [
             1,
             "#f0f921"
            ]
           ]
          },
          "colorway": [
           "#636efa",
           "#EF553B",
           "#00cc96",
           "#ab63fa",
           "#FFA15A",
           "#19d3f3",
           "#FF6692",
           "#B6E880",
           "#FF97FF",
           "#FECB52"
          ],
          "font": {
           "color": "#2a3f5f"
          },
          "geo": {
           "bgcolor": "white",
           "lakecolor": "white",
           "landcolor": "#E5ECF6",
           "showlakes": true,
           "showland": true,
           "subunitcolor": "white"
          },
          "hoverlabel": {
           "align": "left"
          },
          "hovermode": "closest",
          "mapbox": {
           "style": "light"
          },
          "paper_bgcolor": "white",
          "plot_bgcolor": "#E5ECF6",
          "polar": {
           "angularaxis": {
            "gridcolor": "white",
            "linecolor": "white",
            "ticks": ""
           },
           "bgcolor": "#E5ECF6",
           "radialaxis": {
            "gridcolor": "white",
            "linecolor": "white",
            "ticks": ""
           }
          },
          "scene": {
           "xaxis": {
            "backgroundcolor": "#E5ECF6",
            "gridcolor": "white",
            "gridwidth": 2,
            "linecolor": "white",
            "showbackground": true,
            "ticks": "",
            "zerolinecolor": "white"
           },
           "yaxis": {
            "backgroundcolor": "#E5ECF6",
            "gridcolor": "white",
            "gridwidth": 2,
            "linecolor": "white",
            "showbackground": true,
            "ticks": "",
            "zerolinecolor": "white"
           },
           "zaxis": {
            "backgroundcolor": "#E5ECF6",
            "gridcolor": "white",
            "gridwidth": 2,
            "linecolor": "white",
            "showbackground": true,
            "ticks": "",
            "zerolinecolor": "white"
           }
          },
          "shapedefaults": {
           "line": {
            "color": "#2a3f5f"
           }
          },
          "ternary": {
           "aaxis": {
            "gridcolor": "white",
            "linecolor": "white",
            "ticks": ""
           },
           "baxis": {
            "gridcolor": "white",
            "linecolor": "white",
            "ticks": ""
           },
           "bgcolor": "#E5ECF6",
           "caxis": {
            "gridcolor": "white",
            "linecolor": "white",
            "ticks": ""
           }
          },
          "title": {
           "x": 0.05
          },
          "xaxis": {
           "automargin": true,
           "gridcolor": "white",
           "linecolor": "white",
           "ticks": "",
           "title": {
            "standoff": 15
           },
           "zerolinecolor": "white",
           "zerolinewidth": 2
          },
          "yaxis": {
           "automargin": true,
           "gridcolor": "white",
           "linecolor": "white",
           "ticks": "",
           "title": {
            "standoff": 15
           },
           "zerolinecolor": "white",
           "zerolinewidth": 2
          }
         }
        },
        "title": {
         "text": "Comparison of Actual and Predicted Values"
        },
        "xaxis": {
         "title": {
          "text": "X Axis Title"
         }
        },
        "yaxis": {
         "title": {
          "text": "Y Axis Title"
         }
        }
       }
      },
      "text/html": [
       "<div>                            <div id=\"14e3a34d-e4d7-4555-88f4-ca11dcffe29c\" class=\"plotly-graph-div\" style=\"height:525px; width:100%;\"></div>            <script type=\"text/javascript\">                require([\"plotly\"], function(Plotly) {                    window.PLOTLYENV=window.PLOTLYENV || {};                                    if (document.getElementById(\"14e3a34d-e4d7-4555-88f4-ca11dcffe29c\")) {                    Plotly.newPlot(                        \"14e3a34d-e4d7-4555-88f4-ca11dcffe29c\",                        [{\"line\":{\"color\":\"red\"},\"mode\":\"lines\",\"name\":\"Actual\",\"x\":[0,1,2,3,4,5,6,7,8,9,10,11,12,13,14,15,16,17,18,19],\"y\":[5.5,8.4,8.7,9.6,10.1,10.1,10.3,10.9,10.9,11.2,12.8,13.4,13.4,14.9,15.0,15.5,15.9,16.6,20.1,23.7],\"type\":\"scatter\"},{\"line\":{\"color\":\"blue\"},\"mode\":\"lines\",\"name\":\"Predicted 1\",\"x\":[0,1,2,3,4,5,6,7,8,9,10,11,12,13,14,15,16,17,18,19],\"y\":[5.385010722578258,9.034947818296168,8.121732298517383,9.334687444468376,10.397084626501604,10.428649368380276,10.258619786430685,10.807900873795568,10.730476786733986,10.843322167923418,12.121328829174733,12.740704827622963,13.16675834376345,14.779435829943203,15.499474537432551,14.972681607676979,15.93079455484534,16.13600741986157,19.648904855918882,23.282414784260034],\"type\":\"scatter\"},{\"line\":{\"color\":\"yellow\"},\"mode\":\"lines\",\"name\":\"Predicted 2\",\"x\":[0,1,2,3,4,5,6,7,8,9,10,11,12,13,14,15,16,17,18,19],\"y\":[5.657039017256923,8.974578059186472,7.845080868246077,9.534606298741291,9.84584574401598,9.907873080573955,10.139265599289617,10.434358039322035,10.839812210721997,10.614537745345475,12.484914691669312,12.529472835485889,13.188648750899226,14.700242609646534,15.477436145068056,14.94186753480475,16.060994509716593,16.226826234932037,19.7990305356927,23.02689232534769],\"type\":\"scatter\"},{\"line\":{\"color\":\"green\"},\"mode\":\"lines\",\"name\":\"Vote\",\"x\":[0,1,2,3,4,5,6,7,8,9,10,11,12,13,14,15,16,17,18,19],\"y\":[5.521024869917591,9.004762938741319,7.98340658338173,9.434646871604834,10.121465185258792,10.168261224477115,10.19894269286015,10.621129456558801,10.785144498727991,10.728929956634445,12.303121760422023,12.635088831554427,13.177703547331337,14.739839219794868,15.488455341250305,14.957274571240864,15.995894532280968,16.181416827396802,19.72396769580579,23.15465355480386],\"type\":\"scatter\"}],                        {\"template\":{\"data\":{\"histogram2dcontour\":[{\"type\":\"histogram2dcontour\",\"colorbar\":{\"outlinewidth\":0,\"ticks\":\"\"},\"colorscale\":[[0.0,\"#0d0887\"],[0.1111111111111111,\"#46039f\"],[0.2222222222222222,\"#7201a8\"],[0.3333333333333333,\"#9c179e\"],[0.4444444444444444,\"#bd3786\"],[0.5555555555555556,\"#d8576b\"],[0.6666666666666666,\"#ed7953\"],[0.7777777777777778,\"#fb9f3a\"],[0.8888888888888888,\"#fdca26\"],[1.0,\"#f0f921\"]]}],\"choropleth\":[{\"type\":\"choropleth\",\"colorbar\":{\"outlinewidth\":0,\"ticks\":\"\"}}],\"histogram2d\":[{\"type\":\"histogram2d\",\"colorbar\":{\"outlinewidth\":0,\"ticks\":\"\"},\"colorscale\":[[0.0,\"#0d0887\"],[0.1111111111111111,\"#46039f\"],[0.2222222222222222,\"#7201a8\"],[0.3333333333333333,\"#9c179e\"],[0.4444444444444444,\"#bd3786\"],[0.5555555555555556,\"#d8576b\"],[0.6666666666666666,\"#ed7953\"],[0.7777777777777778,\"#fb9f3a\"],[0.8888888888888888,\"#fdca26\"],[1.0,\"#f0f921\"]]}],\"heatmap\":[{\"type\":\"heatmap\",\"colorbar\":{\"outlinewidth\":0,\"ticks\":\"\"},\"colorscale\":[[0.0,\"#0d0887\"],[0.1111111111111111,\"#46039f\"],[0.2222222222222222,\"#7201a8\"],[0.3333333333333333,\"#9c179e\"],[0.4444444444444444,\"#bd3786\"],[0.5555555555555556,\"#d8576b\"],[0.6666666666666666,\"#ed7953\"],[0.7777777777777778,\"#fb9f3a\"],[0.8888888888888888,\"#fdca26\"],[1.0,\"#f0f921\"]]}],\"heatmapgl\":[{\"type\":\"heatmapgl\",\"colorbar\":{\"outlinewidth\":0,\"ticks\":\"\"},\"colorscale\":[[0.0,\"#0d0887\"],[0.1111111111111111,\"#46039f\"],[0.2222222222222222,\"#7201a8\"],[0.3333333333333333,\"#9c179e\"],[0.4444444444444444,\"#bd3786\"],[0.5555555555555556,\"#d8576b\"],[0.6666666666666666,\"#ed7953\"],[0.7777777777777778,\"#fb9f3a\"],[0.8888888888888888,\"#fdca26\"],[1.0,\"#f0f921\"]]}],\"contourcarpet\":[{\"type\":\"contourcarpet\",\"colorbar\":{\"outlinewidth\":0,\"ticks\":\"\"}}],\"contour\":[{\"type\":\"contour\",\"colorbar\":{\"outlinewidth\":0,\"ticks\":\"\"},\"colorscale\":[[0.0,\"#0d0887\"],[0.1111111111111111,\"#46039f\"],[0.2222222222222222,\"#7201a8\"],[0.3333333333333333,\"#9c179e\"],[0.4444444444444444,\"#bd3786\"],[0.5555555555555556,\"#d8576b\"],[0.6666666666666666,\"#ed7953\"],[0.7777777777777778,\"#fb9f3a\"],[0.8888888888888888,\"#fdca26\"],[1.0,\"#f0f921\"]]}],\"surface\":[{\"type\":\"surface\",\"colorbar\":{\"outlinewidth\":0,\"ticks\":\"\"},\"colorscale\":[[0.0,\"#0d0887\"],[0.1111111111111111,\"#46039f\"],[0.2222222222222222,\"#7201a8\"],[0.3333333333333333,\"#9c179e\"],[0.4444444444444444,\"#bd3786\"],[0.5555555555555556,\"#d8576b\"],[0.6666666666666666,\"#ed7953\"],[0.7777777777777778,\"#fb9f3a\"],[0.8888888888888888,\"#fdca26\"],[1.0,\"#f0f921\"]]}],\"mesh3d\":[{\"type\":\"mesh3d\",\"colorbar\":{\"outlinewidth\":0,\"ticks\":\"\"}}],\"scatter\":[{\"fillpattern\":{\"fillmode\":\"overlay\",\"size\":10,\"solidity\":0.2},\"type\":\"scatter\"}],\"parcoords\":[{\"type\":\"parcoords\",\"line\":{\"colorbar\":{\"outlinewidth\":0,\"ticks\":\"\"}}}],\"scatterpolargl\":[{\"type\":\"scatterpolargl\",\"marker\":{\"colorbar\":{\"outlinewidth\":0,\"ticks\":\"\"}}}],\"bar\":[{\"error_x\":{\"color\":\"#2a3f5f\"},\"error_y\":{\"color\":\"#2a3f5f\"},\"marker\":{\"line\":{\"color\":\"#E5ECF6\",\"width\":0.5},\"pattern\":{\"fillmode\":\"overlay\",\"size\":10,\"solidity\":0.2}},\"type\":\"bar\"}],\"scattergeo\":[{\"type\":\"scattergeo\",\"marker\":{\"colorbar\":{\"outlinewidth\":0,\"ticks\":\"\"}}}],\"scatterpolar\":[{\"type\":\"scatterpolar\",\"marker\":{\"colorbar\":{\"outlinewidth\":0,\"ticks\":\"\"}}}],\"histogram\":[{\"marker\":{\"pattern\":{\"fillmode\":\"overlay\",\"size\":10,\"solidity\":0.2}},\"type\":\"histogram\"}],\"scattergl\":[{\"type\":\"scattergl\",\"marker\":{\"colorbar\":{\"outlinewidth\":0,\"ticks\":\"\"}}}],\"scatter3d\":[{\"type\":\"scatter3d\",\"line\":{\"colorbar\":{\"outlinewidth\":0,\"ticks\":\"\"}},\"marker\":{\"colorbar\":{\"outlinewidth\":0,\"ticks\":\"\"}}}],\"scattermapbox\":[{\"type\":\"scattermapbox\",\"marker\":{\"colorbar\":{\"outlinewidth\":0,\"ticks\":\"\"}}}],\"scatterternary\":[{\"type\":\"scatterternary\",\"marker\":{\"colorbar\":{\"outlinewidth\":0,\"ticks\":\"\"}}}],\"scattercarpet\":[{\"type\":\"scattercarpet\",\"marker\":{\"colorbar\":{\"outlinewidth\":0,\"ticks\":\"\"}}}],\"carpet\":[{\"aaxis\":{\"endlinecolor\":\"#2a3f5f\",\"gridcolor\":\"white\",\"linecolor\":\"white\",\"minorgridcolor\":\"white\",\"startlinecolor\":\"#2a3f5f\"},\"baxis\":{\"endlinecolor\":\"#2a3f5f\",\"gridcolor\":\"white\",\"linecolor\":\"white\",\"minorgridcolor\":\"white\",\"startlinecolor\":\"#2a3f5f\"},\"type\":\"carpet\"}],\"table\":[{\"cells\":{\"fill\":{\"color\":\"#EBF0F8\"},\"line\":{\"color\":\"white\"}},\"header\":{\"fill\":{\"color\":\"#C8D4E3\"},\"line\":{\"color\":\"white\"}},\"type\":\"table\"}],\"barpolar\":[{\"marker\":{\"line\":{\"color\":\"#E5ECF6\",\"width\":0.5},\"pattern\":{\"fillmode\":\"overlay\",\"size\":10,\"solidity\":0.2}},\"type\":\"barpolar\"}],\"pie\":[{\"automargin\":true,\"type\":\"pie\"}]},\"layout\":{\"autotypenumbers\":\"strict\",\"colorway\":[\"#636efa\",\"#EF553B\",\"#00cc96\",\"#ab63fa\",\"#FFA15A\",\"#19d3f3\",\"#FF6692\",\"#B6E880\",\"#FF97FF\",\"#FECB52\"],\"font\":{\"color\":\"#2a3f5f\"},\"hovermode\":\"closest\",\"hoverlabel\":{\"align\":\"left\"},\"paper_bgcolor\":\"white\",\"plot_bgcolor\":\"#E5ECF6\",\"polar\":{\"bgcolor\":\"#E5ECF6\",\"angularaxis\":{\"gridcolor\":\"white\",\"linecolor\":\"white\",\"ticks\":\"\"},\"radialaxis\":{\"gridcolor\":\"white\",\"linecolor\":\"white\",\"ticks\":\"\"}},\"ternary\":{\"bgcolor\":\"#E5ECF6\",\"aaxis\":{\"gridcolor\":\"white\",\"linecolor\":\"white\",\"ticks\":\"\"},\"baxis\":{\"gridcolor\":\"white\",\"linecolor\":\"white\",\"ticks\":\"\"},\"caxis\":{\"gridcolor\":\"white\",\"linecolor\":\"white\",\"ticks\":\"\"}},\"coloraxis\":{\"colorbar\":{\"outlinewidth\":0,\"ticks\":\"\"}},\"colorscale\":{\"sequential\":[[0.0,\"#0d0887\"],[0.1111111111111111,\"#46039f\"],[0.2222222222222222,\"#7201a8\"],[0.3333333333333333,\"#9c179e\"],[0.4444444444444444,\"#bd3786\"],[0.5555555555555556,\"#d8576b\"],[0.6666666666666666,\"#ed7953\"],[0.7777777777777778,\"#fb9f3a\"],[0.8888888888888888,\"#fdca26\"],[1.0,\"#f0f921\"]],\"sequentialminus\":[[0.0,\"#0d0887\"],[0.1111111111111111,\"#46039f\"],[0.2222222222222222,\"#7201a8\"],[0.3333333333333333,\"#9c179e\"],[0.4444444444444444,\"#bd3786\"],[0.5555555555555556,\"#d8576b\"],[0.6666666666666666,\"#ed7953\"],[0.7777777777777778,\"#fb9f3a\"],[0.8888888888888888,\"#fdca26\"],[1.0,\"#f0f921\"]],\"diverging\":[[0,\"#8e0152\"],[0.1,\"#c51b7d\"],[0.2,\"#de77ae\"],[0.3,\"#f1b6da\"],[0.4,\"#fde0ef\"],[0.5,\"#f7f7f7\"],[0.6,\"#e6f5d0\"],[0.7,\"#b8e186\"],[0.8,\"#7fbc41\"],[0.9,\"#4d9221\"],[1,\"#276419\"]]},\"xaxis\":{\"gridcolor\":\"white\",\"linecolor\":\"white\",\"ticks\":\"\",\"title\":{\"standoff\":15},\"zerolinecolor\":\"white\",\"automargin\":true,\"zerolinewidth\":2},\"yaxis\":{\"gridcolor\":\"white\",\"linecolor\":\"white\",\"ticks\":\"\",\"title\":{\"standoff\":15},\"zerolinecolor\":\"white\",\"automargin\":true,\"zerolinewidth\":2},\"scene\":{\"xaxis\":{\"backgroundcolor\":\"#E5ECF6\",\"gridcolor\":\"white\",\"linecolor\":\"white\",\"showbackground\":true,\"ticks\":\"\",\"zerolinecolor\":\"white\",\"gridwidth\":2},\"yaxis\":{\"backgroundcolor\":\"#E5ECF6\",\"gridcolor\":\"white\",\"linecolor\":\"white\",\"showbackground\":true,\"ticks\":\"\",\"zerolinecolor\":\"white\",\"gridwidth\":2},\"zaxis\":{\"backgroundcolor\":\"#E5ECF6\",\"gridcolor\":\"white\",\"linecolor\":\"white\",\"showbackground\":true,\"ticks\":\"\",\"zerolinecolor\":\"white\",\"gridwidth\":2}},\"shapedefaults\":{\"line\":{\"color\":\"#2a3f5f\"}},\"annotationdefaults\":{\"arrowcolor\":\"#2a3f5f\",\"arrowhead\":0,\"arrowwidth\":1},\"geo\":{\"bgcolor\":\"white\",\"landcolor\":\"#E5ECF6\",\"subunitcolor\":\"white\",\"showland\":true,\"showlakes\":true,\"lakecolor\":\"white\"},\"title\":{\"x\":0.05},\"mapbox\":{\"style\":\"light\"}}},\"title\":{\"text\":\"Comparison of Actual and Predicted Values\"},\"xaxis\":{\"title\":{\"text\":\"X Axis Title\"}},\"yaxis\":{\"title\":{\"text\":\"Y Axis Title\"}}},                        {\"responsive\": true}                    ).then(function(){\n",
       "                            \n",
       "var gd = document.getElementById('14e3a34d-e4d7-4555-88f4-ca11dcffe29c');\n",
       "var x = new MutationObserver(function (mutations, observer) {{\n",
       "        var display = window.getComputedStyle(gd).display;\n",
       "        if (!display || display === 'none') {{\n",
       "            console.log([gd, 'removed!']);\n",
       "            Plotly.purge(gd);\n",
       "            observer.disconnect();\n",
       "        }}\n",
       "}});\n",
       "\n",
       "// Listen for the removal of the full notebook cells\n",
       "var notebookContainer = gd.closest('#notebook-container');\n",
       "if (notebookContainer) {{\n",
       "    x.observe(notebookContainer, {childList: true});\n",
       "}}\n",
       "\n",
       "// Listen for the clearing of the current output cell\n",
       "var outputEl = gd.closest('.output');\n",
       "if (outputEl) {{\n",
       "    x.observe(outputEl, {childList: true});\n",
       "}}\n",
       "\n",
       "                        })                };                });            </script>        </div>"
      ]
     },
     "metadata": {},
     "output_type": "display_data"
    }
   ],
   "source": [
    "\n",
    "\n",
    "\n",
    "import plotly.graph_objs as go\n",
    "x=gabungan.index.values\n",
    "# Define traces for each line\n",
    "trace_actual = go.Scatter(x=x, y=gabungan['Actual'].values, mode='lines', name='Actual',line=dict(color='red'))\n",
    "trace_pred_1 = go.Scatter(x=x, y=gabungan['Predicted 1'].values, mode='lines', name='Predicted 1',line=dict(color='blue'))\n",
    "trace_pred_2 = go.Scatter(x=x, y=gabungan['Predicted 2'].values, mode='lines', name='Predicted 2',line=dict(color='yellow'))\n",
    "trace_pred_v = go.Scatter(x=x, y=gabungan['vote'].values, mode='lines', name='Vote',line=dict(color='green'))\n",
    "\n",
    "# Create the plotly figure\n",
    "fig = go.Figure()\n",
    "\n",
    "# Add traces to the figure\n",
    "fig.add_trace(trace_actual)\n",
    "fig.add_trace(trace_pred_1)\n",
    "fig.add_trace(trace_pred_2)\n",
    "fig.add_trace(trace_pred_v)\n",
    "\n",
    "# Update layout\n",
    "fig.update_layout(\n",
    "    title=\"Comparison of Actual and Predicted Values\",\n",
    "    xaxis_title=\"X Axis Title\",\n",
    "    yaxis_title=\"Y Axis Title\",\n",
    "    #xaxis_tickfont=dict(size=10)\n",
    ")\n",
    "\n",
    "# Show plot\n",
    "fig.show()"
   ]
  },
  {
   "cell_type": "markdown",
   "id": "f19ba5cf",
   "metadata": {},
   "source": [
    "# **save model**"
   ]
  },
  {
   "cell_type": "code",
   "execution_count": 233,
   "id": "69bac5cf",
   "metadata": {},
   "outputs": [
    {
     "data": {
      "text/plain": [
       "['data/data_model/voting_pipeline.joblib']"
      ]
     },
     "execution_count": 233,
     "metadata": {},
     "output_type": "execute_result"
    }
   ],
   "source": [
    "import joblib\n",
    "\n",
    "# Simpan pipeline ke dalam file menggunakan joblib\n",
    "joblib.dump(voting_pipe, \"data/data_model/voting_pipeline.joblib\")\n"
   ]
  }
 ],
 "metadata": {
  "kernelspec": {
   "display_name": "Python 3 (ipykernel)",
   "language": "python",
   "name": "python3"
  },
  "language_info": {
   "codemirror_mode": {
    "name": "ipython",
    "version": 3
   },
   "file_extension": ".py",
   "mimetype": "text/x-python",
   "name": "python",
   "nbconvert_exporter": "python",
   "pygments_lexer": "ipython3",
   "version": "3.9.12"
  }
 },
 "nbformat": 4,
 "nbformat_minor": 5
}
